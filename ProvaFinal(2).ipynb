{
 "cells": [
  {
   "cell_type": "markdown",
   "metadata": {},
   "source": [
    "# Prova Final Business Analytics\n",
    "Gustavo Pohlmann Gonzaga\n",
    "\n",
    "Marina Di Martino\n",
    "\n",
    "Lucas Busani Xavier\n",
    "\n",
    "Said Dargham"
   ]
  },
  {
   "cell_type": "code",
   "execution_count": 1,
   "metadata": {},
   "outputs": [],
   "source": [
    "import pandas as pd\n",
    "import numpy as np\n",
    "import os"
   ]
  },
  {
   "cell_type": "code",
   "execution_count": 2,
   "metadata": {},
   "outputs": [],
   "source": [
    "pd.set_option('display.max_rows', 100)"
   ]
  },
  {
   "cell_type": "code",
   "execution_count": 3,
   "metadata": {},
   "outputs": [],
   "source": [
    "# Plots e estatisticas\n",
    "%matplotlib inline\n",
    "import matplotlib.pyplot as plt  # Gráficos\n",
    "import seaborn as sns\n",
    "from scipy import stats\n",
    "from scipy.stats import norm, skew # Para ver as estatísticas\n",
    "from sklearn import preprocessing\n",
    "from sklearn.preprocessing import LabelEncoder # sklearn para Machine Learning\n",
    "from sklearn.linear_model import ElasticNet, Lasso,  BayesianRidge, LassoLarsIC\n",
    "from sklearn.kernel_ridge import KernelRidge\n",
    "from sklearn.pipeline import make_pipeline\n",
    "from sklearn.preprocessing import RobustScaler\n",
    "from sklearn.base import BaseEstimator, TransformerMixin, RegressorMixin, clone\n",
    "from sklearn.model_selection import KFold, cross_val_score, train_test_split\n",
    "from sklearn.metrics import mean_squared_error\n",
    "from sklearn.neighbors import KNeighborsClassifier"
   ]
  },
  {
   "cell_type": "code",
   "execution_count": 4,
   "metadata": {},
   "outputs": [],
   "source": [
    "#os.chdir(r'C:\\Users\\Pohlmann\\Documents\\FGV\\9º Semestre\\Business Analytics\\ProvaFinal\\caso blu365')"
   ]
  },
  {
   "cell_type": "code",
   "execution_count": 5,
   "metadata": {},
   "outputs": [
    {
     "data": {
      "text/html": [
       "<div>\n",
       "<style scoped>\n",
       "    .dataframe tbody tr th:only-of-type {\n",
       "        vertical-align: middle;\n",
       "    }\n",
       "\n",
       "    .dataframe tbody tr th {\n",
       "        vertical-align: top;\n",
       "    }\n",
       "\n",
       "    .dataframe thead th {\n",
       "        text-align: right;\n",
       "    }\n",
       "</style>\n",
       "<table border=\"1\" class=\"dataframe\">\n",
       "  <thead>\n",
       "    <tr style=\"text-align: right;\">\n",
       "      <th></th>\n",
       "      <th>datadisparo</th>\n",
       "      <th>ddd</th>\n",
       "      <th>sms_entregue</th>\n",
       "      <th>sms_enviado</th>\n",
       "      <th>sms_naoentregue</th>\n",
       "      <th>sms_rejeitado</th>\n",
       "      <th>sms_invalido</th>\n",
       "      <th>data_atraso</th>\n",
       "      <th>valor</th>\n",
       "      <th>operadora</th>\n",
       "      <th>...</th>\n",
       "      <th>data_maisantiga_acesso</th>\n",
       "      <th>sms_total_tent</th>\n",
       "      <th>idade</th>\n",
       "      <th>genero</th>\n",
       "      <th>compradoronline</th>\n",
       "      <th>vendedoronline</th>\n",
       "      <th>utilizacaoweb</th>\n",
       "      <th>rendaestimada</th>\n",
       "      <th>acesso</th>\n",
       "      <th>acordo</th>\n",
       "    </tr>\n",
       "  </thead>\n",
       "  <tbody>\n",
       "    <tr>\n",
       "      <th>0</th>\n",
       "      <td>2020-05-19</td>\n",
       "      <td>62</td>\n",
       "      <td>0</td>\n",
       "      <td>0</td>\n",
       "      <td>0</td>\n",
       "      <td>0</td>\n",
       "      <td>0</td>\n",
       "      <td>2019-05-24</td>\n",
       "      <td>126.21</td>\n",
       "      <td>Claro</td>\n",
       "      <td>...</td>\n",
       "      <td>NaT</td>\n",
       "      <td>0</td>\n",
       "      <td>22.0</td>\n",
       "      <td>M</td>\n",
       "      <td>H</td>\n",
       "      <td>H</td>\n",
       "      <td>H</td>\n",
       "      <td>NaN</td>\n",
       "      <td>0</td>\n",
       "      <td>0</td>\n",
       "    </tr>\n",
       "    <tr>\n",
       "      <th>1</th>\n",
       "      <td>2020-04-27</td>\n",
       "      <td>67</td>\n",
       "      <td>3</td>\n",
       "      <td>0</td>\n",
       "      <td>0</td>\n",
       "      <td>0</td>\n",
       "      <td>0</td>\n",
       "      <td>2017-04-14</td>\n",
       "      <td>244.29</td>\n",
       "      <td>Vivo</td>\n",
       "      <td>...</td>\n",
       "      <td>NaT</td>\n",
       "      <td>3</td>\n",
       "      <td>56.0</td>\n",
       "      <td>F</td>\n",
       "      <td>D</td>\n",
       "      <td>H</td>\n",
       "      <td>D</td>\n",
       "      <td>ATE 2 SM</td>\n",
       "      <td>0</td>\n",
       "      <td>0</td>\n",
       "    </tr>\n",
       "    <tr>\n",
       "      <th>2</th>\n",
       "      <td>2020-05-14</td>\n",
       "      <td>51</td>\n",
       "      <td>1</td>\n",
       "      <td>0</td>\n",
       "      <td>0</td>\n",
       "      <td>0</td>\n",
       "      <td>0</td>\n",
       "      <td>2019-09-04</td>\n",
       "      <td>51.00</td>\n",
       "      <td>Claro</td>\n",
       "      <td>...</td>\n",
       "      <td>NaT</td>\n",
       "      <td>1</td>\n",
       "      <td>45.0</td>\n",
       "      <td>M</td>\n",
       "      <td>B</td>\n",
       "      <td>H</td>\n",
       "      <td>B</td>\n",
       "      <td>ATE 2 SM</td>\n",
       "      <td>0</td>\n",
       "      <td>0</td>\n",
       "    </tr>\n",
       "    <tr>\n",
       "      <th>3</th>\n",
       "      <td>2020-05-13</td>\n",
       "      <td>51</td>\n",
       "      <td>0</td>\n",
       "      <td>0</td>\n",
       "      <td>0</td>\n",
       "      <td>0</td>\n",
       "      <td>0</td>\n",
       "      <td>2019-11-14</td>\n",
       "      <td>307.91</td>\n",
       "      <td>Tim</td>\n",
       "      <td>...</td>\n",
       "      <td>NaT</td>\n",
       "      <td>0</td>\n",
       "      <td>35.0</td>\n",
       "      <td>F</td>\n",
       "      <td>B</td>\n",
       "      <td>H</td>\n",
       "      <td>B</td>\n",
       "      <td>4 A 10 SM</td>\n",
       "      <td>0</td>\n",
       "      <td>0</td>\n",
       "    </tr>\n",
       "    <tr>\n",
       "      <th>4</th>\n",
       "      <td>2020-05-25</td>\n",
       "      <td>62</td>\n",
       "      <td>0</td>\n",
       "      <td>0</td>\n",
       "      <td>12</td>\n",
       "      <td>0</td>\n",
       "      <td>0</td>\n",
       "      <td>2017-03-14</td>\n",
       "      <td>154.12</td>\n",
       "      <td>Tim</td>\n",
       "      <td>...</td>\n",
       "      <td>NaT</td>\n",
       "      <td>12</td>\n",
       "      <td>43.0</td>\n",
       "      <td>F</td>\n",
       "      <td>A</td>\n",
       "      <td>H</td>\n",
       "      <td>A</td>\n",
       "      <td>NaN</td>\n",
       "      <td>0</td>\n",
       "      <td>0</td>\n",
       "    </tr>\n",
       "  </tbody>\n",
       "</table>\n",
       "<p>5 rows × 22 columns</p>\n",
       "</div>"
      ],
      "text/plain": [
       "  datadisparo  ddd  sms_entregue  sms_enviado  sms_naoentregue  sms_rejeitado  \\\n",
       "0  2020-05-19   62             0            0                0              0   \n",
       "1  2020-04-27   67             3            0                0              0   \n",
       "2  2020-05-14   51             1            0                0              0   \n",
       "3  2020-05-13   51             0            0                0              0   \n",
       "4  2020-05-25   62             0            0               12              0   \n",
       "\n",
       "   sms_invalido data_atraso   valor operadora  ...  data_maisantiga_acesso  \\\n",
       "0             0  2019-05-24  126.21     Claro  ...                     NaT   \n",
       "1             0  2017-04-14  244.29      Vivo  ...                     NaT   \n",
       "2             0  2019-09-04   51.00     Claro  ...                     NaT   \n",
       "3             0  2019-11-14  307.91       Tim  ...                     NaT   \n",
       "4             0  2017-03-14  154.12       Tim  ...                     NaT   \n",
       "\n",
       "  sms_total_tent idade  genero  compradoronline vendedoronline utilizacaoweb  \\\n",
       "0              0  22.0       M                H              H             H   \n",
       "1              3  56.0       F                D              H             D   \n",
       "2              1  45.0       M                B              H             B   \n",
       "3              0  35.0       F                B              H             B   \n",
       "4             12  43.0       F                A              H             A   \n",
       "\n",
       "  rendaestimada acesso acordo  \n",
       "0           NaN      0      0  \n",
       "1      ATE 2 SM      0      0  \n",
       "2      ATE 2 SM      0      0  \n",
       "3     4 A 10 SM      0      0  \n",
       "4           NaN      0      0  \n",
       "\n",
       "[5 rows x 22 columns]"
      ]
     },
     "execution_count": 5,
     "metadata": {},
     "output_type": "execute_result"
    }
   ],
   "source": [
    "df = pd.read_excel('blu365_dataset_estudodecaso.xlsx')\n",
    "df.head()"
   ]
  },
  {
   "cell_type": "code",
   "execution_count": 6,
   "metadata": {},
   "outputs": [
    {
     "data": {
      "text/plain": [
       "Index(['datadisparo', 'ddd', 'sms_entregue', 'sms_enviado', 'sms_naoentregue',\n",
       "       'sms_rejeitado', 'sms_invalido', 'data_atraso', 'valor', 'operadora',\n",
       "       'qtd_hist_acessos', 'data_maisrecente_acesso', 'data_maisantiga_acesso',\n",
       "       'sms_total_tent', 'idade', 'genero', 'compradoronline',\n",
       "       'vendedoronline', 'utilizacaoweb', 'rendaestimada', 'acesso', 'acordo'],\n",
       "      dtype='object')"
      ]
     },
     "execution_count": 6,
     "metadata": {},
     "output_type": "execute_result"
    }
   ],
   "source": [
    "df.columns"
   ]
  },
  {
   "cell_type": "code",
   "execution_count": 7,
   "metadata": {},
   "outputs": [
    {
     "name": "stdout",
     "output_type": "stream",
     "text": [
      "<class 'pandas.core.frame.DataFrame'>\n",
      "RangeIndex: 686383 entries, 0 to 686382\n",
      "Data columns (total 22 columns):\n",
      " #   Column                   Non-Null Count   Dtype         \n",
      "---  ------                   --------------   -----         \n",
      " 0   datadisparo              686383 non-null  datetime64[ns]\n",
      " 1   ddd                      686383 non-null  int64         \n",
      " 2   sms_entregue             686383 non-null  int64         \n",
      " 3   sms_enviado              686383 non-null  int64         \n",
      " 4   sms_naoentregue          686383 non-null  int64         \n",
      " 5   sms_rejeitado            686383 non-null  int64         \n",
      " 6   sms_invalido             686383 non-null  int64         \n",
      " 7   data_atraso              686383 non-null  datetime64[ns]\n",
      " 8   valor                    686383 non-null  float64       \n",
      " 9   operadora                686383 non-null  object        \n",
      " 10  qtd_hist_acessos         686383 non-null  int64         \n",
      " 11  data_maisrecente_acesso  77512 non-null   datetime64[ns]\n",
      " 12  data_maisantiga_acesso   77512 non-null   datetime64[ns]\n",
      " 13  sms_total_tent           686383 non-null  int64         \n",
      " 14  idade                    684648 non-null  float64       \n",
      " 15  genero                   684650 non-null  object        \n",
      " 16  compradoronline          684650 non-null  object        \n",
      " 17  vendedoronline           684650 non-null  object        \n",
      " 18  utilizacaoweb            684650 non-null  object        \n",
      " 19  rendaestimada            520483 non-null  object        \n",
      " 20  acesso                   686383 non-null  int64         \n",
      " 21  acordo                   686383 non-null  int64         \n",
      "dtypes: datetime64[ns](4), float64(2), int64(10), object(6)\n",
      "memory usage: 115.2+ MB\n"
     ]
    }
   ],
   "source": [
    "df.info() # data_maisrecente_acesso muito valor empty, idem data_maisantiga_acesso\n",
    "# idade, genero, compradoronline, vendedoronline, utilizacaoweb e rendaestimada com vazios tambem"
   ]
  },
  {
   "cell_type": "code",
   "execution_count": 8,
   "metadata": {},
   "outputs": [
    {
     "data": {
      "text/html": [
       "<div>\n",
       "<style scoped>\n",
       "    .dataframe tbody tr th:only-of-type {\n",
       "        vertical-align: middle;\n",
       "    }\n",
       "\n",
       "    .dataframe tbody tr th {\n",
       "        vertical-align: top;\n",
       "    }\n",
       "\n",
       "    .dataframe thead th {\n",
       "        text-align: right;\n",
       "    }\n",
       "</style>\n",
       "<table border=\"1\" class=\"dataframe\">\n",
       "  <thead>\n",
       "    <tr style=\"text-align: right;\">\n",
       "      <th></th>\n",
       "      <th>ddd</th>\n",
       "      <th>sms_entregue</th>\n",
       "      <th>sms_enviado</th>\n",
       "      <th>sms_naoentregue</th>\n",
       "      <th>sms_rejeitado</th>\n",
       "      <th>sms_invalido</th>\n",
       "      <th>valor</th>\n",
       "      <th>qtd_hist_acessos</th>\n",
       "      <th>sms_total_tent</th>\n",
       "      <th>idade</th>\n",
       "      <th>acesso</th>\n",
       "      <th>acordo</th>\n",
       "    </tr>\n",
       "  </thead>\n",
       "  <tbody>\n",
       "    <tr>\n",
       "      <th>count</th>\n",
       "      <td>686383.000000</td>\n",
       "      <td>686383.000000</td>\n",
       "      <td>686383.000000</td>\n",
       "      <td>686383.000000</td>\n",
       "      <td>686383.000000</td>\n",
       "      <td>686383.0</td>\n",
       "      <td>686383.000000</td>\n",
       "      <td>686383.000000</td>\n",
       "      <td>686383.000000</td>\n",
       "      <td>684648.000000</td>\n",
       "      <td>686383.000000</td>\n",
       "      <td>686383.000000</td>\n",
       "    </tr>\n",
       "    <tr>\n",
       "      <th>mean</th>\n",
       "      <td>54.100716</td>\n",
       "      <td>2.225027</td>\n",
       "      <td>0.050928</td>\n",
       "      <td>0.938616</td>\n",
       "      <td>0.002046</td>\n",
       "      <td>0.0</td>\n",
       "      <td>268.770910</td>\n",
       "      <td>0.182840</td>\n",
       "      <td>3.208181</td>\n",
       "      <td>40.644479</td>\n",
       "      <td>0.027453</td>\n",
       "      <td>0.003374</td>\n",
       "    </tr>\n",
       "    <tr>\n",
       "      <th>std</th>\n",
       "      <td>11.441091</td>\n",
       "      <td>3.472402</td>\n",
       "      <td>0.649311</td>\n",
       "      <td>2.474068</td>\n",
       "      <td>0.185847</td>\n",
       "      <td>0.0</td>\n",
       "      <td>291.660576</td>\n",
       "      <td>0.655077</td>\n",
       "      <td>3.755364</td>\n",
       "      <td>14.697298</td>\n",
       "      <td>0.163398</td>\n",
       "      <td>0.057990</td>\n",
       "    </tr>\n",
       "    <tr>\n",
       "      <th>min</th>\n",
       "      <td>11.000000</td>\n",
       "      <td>0.000000</td>\n",
       "      <td>0.000000</td>\n",
       "      <td>0.000000</td>\n",
       "      <td>0.000000</td>\n",
       "      <td>0.0</td>\n",
       "      <td>5.300000</td>\n",
       "      <td>0.000000</td>\n",
       "      <td>0.000000</td>\n",
       "      <td>6.000000</td>\n",
       "      <td>0.000000</td>\n",
       "      <td>0.000000</td>\n",
       "    </tr>\n",
       "    <tr>\n",
       "      <th>25%</th>\n",
       "      <td>44.000000</td>\n",
       "      <td>0.000000</td>\n",
       "      <td>0.000000</td>\n",
       "      <td>0.000000</td>\n",
       "      <td>0.000000</td>\n",
       "      <td>0.0</td>\n",
       "      <td>110.520000</td>\n",
       "      <td>0.000000</td>\n",
       "      <td>0.000000</td>\n",
       "      <td>29.000000</td>\n",
       "      <td>0.000000</td>\n",
       "      <td>0.000000</td>\n",
       "    </tr>\n",
       "    <tr>\n",
       "      <th>50%</th>\n",
       "      <td>54.000000</td>\n",
       "      <td>0.000000</td>\n",
       "      <td>0.000000</td>\n",
       "      <td>0.000000</td>\n",
       "      <td>0.000000</td>\n",
       "      <td>0.0</td>\n",
       "      <td>225.970000</td>\n",
       "      <td>0.000000</td>\n",
       "      <td>2.000000</td>\n",
       "      <td>38.000000</td>\n",
       "      <td>0.000000</td>\n",
       "      <td>0.000000</td>\n",
       "    </tr>\n",
       "    <tr>\n",
       "      <th>75%</th>\n",
       "      <td>62.000000</td>\n",
       "      <td>3.000000</td>\n",
       "      <td>0.000000</td>\n",
       "      <td>0.000000</td>\n",
       "      <td>0.000000</td>\n",
       "      <td>0.0</td>\n",
       "      <td>343.995000</td>\n",
       "      <td>0.000000</td>\n",
       "      <td>5.000000</td>\n",
       "      <td>49.000000</td>\n",
       "      <td>0.000000</td>\n",
       "      <td>0.000000</td>\n",
       "    </tr>\n",
       "    <tr>\n",
       "      <th>max</th>\n",
       "      <td>99.000000</td>\n",
       "      <td>23.000000</td>\n",
       "      <td>20.000000</td>\n",
       "      <td>22.000000</td>\n",
       "      <td>18.000000</td>\n",
       "      <td>0.0</td>\n",
       "      <td>61952.930000</td>\n",
       "      <td>20.000000</td>\n",
       "      <td>23.000000</td>\n",
       "      <td>136.000000</td>\n",
       "      <td>1.000000</td>\n",
       "      <td>1.000000</td>\n",
       "    </tr>\n",
       "  </tbody>\n",
       "</table>\n",
       "</div>"
      ],
      "text/plain": [
       "                 ddd   sms_entregue    sms_enviado  sms_naoentregue  \\\n",
       "count  686383.000000  686383.000000  686383.000000    686383.000000   \n",
       "mean       54.100716       2.225027       0.050928         0.938616   \n",
       "std        11.441091       3.472402       0.649311         2.474068   \n",
       "min        11.000000       0.000000       0.000000         0.000000   \n",
       "25%        44.000000       0.000000       0.000000         0.000000   \n",
       "50%        54.000000       0.000000       0.000000         0.000000   \n",
       "75%        62.000000       3.000000       0.000000         0.000000   \n",
       "max        99.000000      23.000000      20.000000        22.000000   \n",
       "\n",
       "       sms_rejeitado  sms_invalido          valor  qtd_hist_acessos  \\\n",
       "count  686383.000000      686383.0  686383.000000     686383.000000   \n",
       "mean        0.002046           0.0     268.770910          0.182840   \n",
       "std         0.185847           0.0     291.660576          0.655077   \n",
       "min         0.000000           0.0       5.300000          0.000000   \n",
       "25%         0.000000           0.0     110.520000          0.000000   \n",
       "50%         0.000000           0.0     225.970000          0.000000   \n",
       "75%         0.000000           0.0     343.995000          0.000000   \n",
       "max        18.000000           0.0   61952.930000         20.000000   \n",
       "\n",
       "       sms_total_tent          idade         acesso         acordo  \n",
       "count   686383.000000  684648.000000  686383.000000  686383.000000  \n",
       "mean         3.208181      40.644479       0.027453       0.003374  \n",
       "std          3.755364      14.697298       0.163398       0.057990  \n",
       "min          0.000000       6.000000       0.000000       0.000000  \n",
       "25%          0.000000      29.000000       0.000000       0.000000  \n",
       "50%          2.000000      38.000000       0.000000       0.000000  \n",
       "75%          5.000000      49.000000       0.000000       0.000000  \n",
       "max         23.000000     136.000000       1.000000       1.000000  "
      ]
     },
     "execution_count": 8,
     "metadata": {},
     "output_type": "execute_result"
    }
   ],
   "source": [
    "df.describe()\n",
    "# idade tem valor máximo 136. como a pessoa mais velha do mundo faleceu aos 122 anos,\n",
    "# valores acima de 100 serão considerados erros e o dígito das centenas será desconsiderado"
   ]
  },
  {
   "cell_type": "markdown",
   "metadata": {},
   "source": [
    "Primeiras proporções da BD"
   ]
  },
  {
   "cell_type": "code",
   "execution_count": 9,
   "metadata": {},
   "outputs": [
    {
     "data": {
      "text/plain": [
       "<AxesSubplot:>"
      ]
     },
     "execution_count": 9,
     "metadata": {},
     "output_type": "execute_result"
    },
    {
     "data": {
      "image/png": "[encoded data removed]",
      "text/plain": [
       "<Figure size 432x288 with 1 Axes>"
      ]
     },
     "metadata": {
      "needs_background": "light"
     },
     "output_type": "display_data"
    }
   ],
   "source": [
    "df.genero.fillna('Vazio').value_counts(normalize=True).plot(kind='bar')\n",
    "# como Vazios tem pouca representatividade, serão substituidos pelo valor U, já na BD original"
   ]
  },
  {
   "cell_type": "code",
   "execution_count": 10,
   "metadata": {},
   "outputs": [],
   "source": [
    "df.genero = df.genero.fillna('U')"
   ]
  },
  {
   "cell_type": "code",
   "execution_count": 11,
   "metadata": {},
   "outputs": [
    {
     "data": {
      "text/plain": [
       "<AxesSubplot:>"
      ]
     },
     "execution_count": 11,
     "metadata": {},
     "output_type": "execute_result"
    },
    {
     "data": {
      "image/png": "[encoded data removed]",
      "text/plain": [
       "<Figure size 432x288 with 1 Axes>"
      ]
     },
     "metadata": {
      "needs_background": "light"
     },
     "output_type": "display_data"
    }
   ],
   "source": [
    "df.acesso.value_counts(normalize=True).plot(kind='bar')"
   ]
  },
  {
   "cell_type": "code",
   "execution_count": 12,
   "metadata": {},
   "outputs": [
    {
     "data": {
      "text/plain": [
       "<AxesSubplot:>"
      ]
     },
     "execution_count": 12,
     "metadata": {},
     "output_type": "execute_result"
    },
    {
     "data": {
      "image/png": "[encoded data removed]",
      "text/plain": [
       "<Figure size 432x288 with 1 Axes>"
      ]
     },
     "metadata": {
      "needs_background": "light"
     },
     "output_type": "display_data"
    }
   ],
   "source": [
    "df.acordo.value_counts(normalize=True).plot(kind='bar')"
   ]
  },
  {
   "cell_type": "code",
   "execution_count": 13,
   "metadata": {},
   "outputs": [
    {
     "data": {
      "text/plain": [
       "ATE 2 SM          384469\n",
       "2 A 4 SM           78084\n",
       "4 A 10 SM          42332\n",
       "10 A 20 SM         10014\n",
       "ACIMA DE 20 SM      5482\n",
       "SEM INFORMACAO        75\n",
       "DE 1 A 1,5 SM         26\n",
       "1/2 A 1 SM             1\n",
       "Name: rendaestimada, dtype: int64"
      ]
     },
     "execution_count": 13,
     "metadata": {},
     "output_type": "execute_result"
    }
   ],
   "source": [
    "df.rendaestimada.value_counts()\n",
    "# rendaestimada tem uma categoria SEM INFORMACAO, valores vazios serão considerados como desta categoria"
   ]
  },
  {
   "cell_type": "code",
   "execution_count": 14,
   "metadata": {},
   "outputs": [
    {
     "data": {
      "text/plain": [
       "<AxesSubplot:>"
      ]
     },
     "execution_count": 14,
     "metadata": {},
     "output_type": "execute_result"
    },
    {
     "data": {
      "image/png": "[encoded data removed]",
      "text/plain": [
       "<Figure size 432x288 with 1 Axes>"
      ]
     },
     "metadata": {
      "needs_background": "light"
     },
     "output_type": "display_data"
    }
   ],
   "source": [
    "df.rendaestimada.fillna('SEM INFORMACAO').value_counts(normalize=True).plot(kind='bar')"
   ]
  },
  {
   "cell_type": "code",
   "execution_count": 15,
   "metadata": {},
   "outputs": [],
   "source": [
    "# labelling sequencialmente\n",
    "df['rendaestimada_labelled'] = df.rendaestimada\n",
    "df.rendaestimada_labelled = df.rendaestimada_labelled.str.replace('1/2 A 1 SM', '1')\n",
    "df.rendaestimada_labelled = df.rendaestimada_labelled.str.replace('DE 1 A 1,5 SM', '2')\n",
    "df.rendaestimada_labelled = df.rendaestimada_labelled.str.replace('ATE 2 SM', '3')\n",
    "df.rendaestimada_labelled = df.rendaestimada_labelled.str.replace('2 A 4 SM', '4')\n",
    "df.rendaestimada_labelled = df.rendaestimada_labelled.str.replace('4 A 10 SM', '5')\n",
    "df.rendaestimada_labelled = df.rendaestimada_labelled.str.replace('10 A 20 SM', '6')\n",
    "df.rendaestimada_labelled = df.rendaestimada_labelled.str.replace('ACIMA DE 20 SM', '7')\n",
    "df.rendaestimada_labelled = df.rendaestimada_labelled.str.replace('SEM INFORMACAO', '0')\n",
    "df.rendaestimada_labelled.fillna('0', inplace=True) # se vazio, então Sem Informação, ou 0 nesse caso"
   ]
  },
  {
   "cell_type": "code",
   "execution_count": 16,
   "metadata": {},
   "outputs": [],
   "source": [
    "df.rendaestimada_labelled = pd.to_numeric(df.rendaestimada_labelled)"
   ]
  },
  {
   "cell_type": "code",
   "execution_count": 17,
   "metadata": {},
   "outputs": [
    {
     "data": {
      "text/plain": [
       "3    384469\n",
       "0    165975\n",
       "4     78084\n",
       "5     42332\n",
       "6     10014\n",
       "7      5482\n",
       "2        26\n",
       "1         1\n",
       "Name: rendaestimada_labelled, dtype: int64"
      ]
     },
     "execution_count": 17,
     "metadata": {},
     "output_type": "execute_result"
    }
   ],
   "source": [
    "df.rendaestimada_labelled.value_counts()"
   ]
  },
  {
   "cell_type": "code",
   "execution_count": 18,
   "metadata": {},
   "outputs": [],
   "source": [
    "df.idade = df.idade.apply(lambda x: x-100 if x>100 else x) # limpando erros de pessoas com mais de 100 anos"
   ]
  },
  {
   "cell_type": "code",
   "execution_count": 19,
   "metadata": {},
   "outputs": [
    {
     "data": {
      "text/plain": [
       "<AxesSubplot:ylabel='Frequency'>"
      ]
     },
     "execution_count": 19,
     "metadata": {},
     "output_type": "execute_result"
    },
    {
     "data": {
      "image/png": "[encoded data removed]",
      "text/plain": [
       "<Figure size 432x288 with 1 Axes>"
      ]
     },
     "metadata": {
      "needs_background": "light"
     },
     "output_type": "display_data"
    }
   ],
   "source": [
    "df.idade.plot(kind='hist')"
   ]
  },
  {
   "cell_type": "code",
   "execution_count": 20,
   "metadata": {},
   "outputs": [
    {
     "data": {
      "text/plain": [
       "0    686383\n",
       "Name: sms_invalido, dtype: int64"
      ]
     },
     "execution_count": 20,
     "metadata": {},
     "output_type": "execute_result"
    }
   ],
   "source": [
    "df.sms_invalido.value_counts() # coluna repleta de 0s, não tras novas infos ao modelo"
   ]
  },
  {
   "cell_type": "code",
   "execution_count": 21,
   "metadata": {},
   "outputs": [],
   "source": [
    "df.drop('sms_invalido',axis=1, inplace=True)"
   ]
  },
  {
   "cell_type": "code",
   "execution_count": 22,
   "metadata": {},
   "outputs": [],
   "source": [
    "df['erro_data'] = df.data_atraso>df.datadisparo"
   ]
  },
  {
   "cell_type": "code",
   "execution_count": 23,
   "metadata": {},
   "outputs": [
    {
     "data": {
      "text/plain": [
       "False    686383\n",
       "Name: erro_data, dtype: int64"
      ]
     },
     "execution_count": 23,
     "metadata": {},
     "output_type": "execute_result"
    }
   ],
   "source": [
    "df.erro_data.value_counts() # não temos situações em que a data de atraso é posterior à data de disparo"
   ]
  },
  {
   "cell_type": "code",
   "execution_count": 24,
   "metadata": {},
   "outputs": [],
   "source": [
    "df.drop('erro_data', axis=1, inplace=True)"
   ]
  },
  {
   "cell_type": "code",
   "execution_count": 25,
   "metadata": {},
   "outputs": [
    {
     "data": {
      "text/plain": [
       "41    99859\n",
       "61    92300\n",
       "62    66396\n",
       "51    60965\n",
       "67    52431\n",
       "47    36109\n",
       "65    27911\n",
       "69    24451\n",
       "48    24057\n",
       "44    23982\n",
       "42    22494\n",
       "43    19030\n",
       "64    17363\n",
       "45    15253\n",
       "66    14393\n",
       "63    14127\n",
       "55    13763\n",
       "68    11485\n",
       "49     9262\n",
       "53     8898\n",
       "54     8806\n",
       "11     5743\n",
       "46     3792\n",
       "21     1130\n",
       "14      929\n",
       "19      792\n",
       "18      721\n",
       "99      645\n",
       "91      638\n",
       "98      522\n",
       "34      514\n",
       "13      466\n",
       "31      425\n",
       "15      400\n",
       "94      389\n",
       "86      376\n",
       "38      375\n",
       "17      350\n",
       "16      344\n",
       "85      340\n",
       "77      281\n",
       "81      273\n",
       "12      264\n",
       "83      262\n",
       "88      254\n",
       "84      213\n",
       "92      209\n",
       "71      204\n",
       "27      201\n",
       "82      187\n",
       "35      185\n",
       "79      171\n",
       "73      161\n",
       "22      153\n",
       "89      145\n",
       "75      144\n",
       "93      131\n",
       "87      106\n",
       "95       92\n",
       "32       90\n",
       "96       80\n",
       "97       77\n",
       "33       66\n",
       "24       65\n",
       "37       57\n",
       "74       54\n",
       "28       32\n",
       "Name: ddd, dtype: int64"
      ]
     },
     "execution_count": 25,
     "metadata": {},
     "output_type": "execute_result"
    }
   ],
   "source": [
    "df.ddd.value_counts() # 67 DDDs distintos"
   ]
  },
  {
   "cell_type": "markdown",
   "metadata": {},
   "source": [
    "### Análise das relações entre variáveis"
   ]
  },
  {
   "cell_type": "code",
   "execution_count": 26,
   "metadata": {},
   "outputs": [
    {
     "data": {
      "image/png": "[encoded data removed]",
      "text/plain": [
       "<Figure size 864x576 with 2 Axes>"
      ]
     },
     "metadata": {
      "needs_background": "light"
     },
     "output_type": "display_data"
    }
   ],
   "source": [
    "# Heatmap de correlações\n",
    "plt.figure(figsize=(12,8))\n",
    "sns.heatmap(df.corr(), cmap = sns.cubehelix_palette(8, start=0), annot=True)\n",
    "sns.set(font_scale=1.0)\n",
    "\n",
    "plt.yticks(rotation=0)\n",
    "plt.xticks(rotation=90)\n",
    "\n",
    "y_train = df.acesso.values"
   ]
  },
  {
   "cell_type": "code",
   "execution_count": 27,
   "metadata": {},
   "outputs": [
    {
     "data": {
      "text/plain": [
       "Text(0, 0.5, 'acessos')"
      ]
     },
     "execution_count": 27,
     "metadata": {},
     "output_type": "execute_result"
    },
    {
     "data": {
      "image/png": "[encoded data removed]",
      "text/plain": [
       "<Figure size 2160x288 with 1 Axes>"
      ]
     },
     "metadata": {},
     "output_type": "display_data"
    }
   ],
   "source": [
    "fig, axis1 = plt.subplots(1,1,figsize=(30,4))\n",
    "average_qtd = df[[\"qtd_hist_acessos\", \"acesso\"]].groupby(['qtd_hist_acessos'],as_index=False).mean()\n",
    "sns.barplot(x='qtd_hist_acessos', y='acesso', data=average_qtd)\n",
    "plt.xlabel('qtd_hist', fontsize=25)\n",
    "plt.ylabel('acessos', fontsize=20)\n",
    "# em geral, quanto maior qtd_hist_acessos, maior a probabilidade de acesso"
   ]
  },
  {
   "cell_type": "code",
   "execution_count": 28,
   "metadata": {},
   "outputs": [
    {
     "data": {
      "text/plain": [
       "Text(0, 0.5, 'acessos')"
      ]
     },
     "execution_count": 28,
     "metadata": {},
     "output_type": "execute_result"
    },
    {
     "data": {
      "image/png": "[encoded data removed]",
      "text/plain": [
       "<Figure size 2160x288 with 1 Axes>"
      ]
     },
     "metadata": {},
     "output_type": "display_data"
    }
   ],
   "source": [
    "fig, axis1 = plt.subplots(1,1,figsize=(30,4))\n",
    "average_qtd = df[[\"rendaestimada_labelled\", \"acesso\"]].groupby(['rendaestimada_labelled'],as_index=False).mean()\n",
    "sns.barplot(x='rendaestimada_labelled', y='acesso', data=average_qtd)\n",
    "plt.xlabel('renda_est', fontsize=25)\n",
    "plt.ylabel('acessos', fontsize=20)\n",
    "# sem relação clara, com exceção de que pessoas de renda 1 têm probabilidade quase 0"
   ]
  },
  {
   "cell_type": "code",
   "execution_count": 29,
   "metadata": {},
   "outputs": [
    {
     "data": {
      "text/plain": [
       "<AxesSubplot:xlabel='genero', ylabel='acesso'>"
      ]
     },
     "execution_count": 29,
     "metadata": {},
     "output_type": "execute_result"
    },
    {
     "data": {
      "image/png": "[encoded data removed]",
      "text/plain": [
       "<Figure size 432x288 with 1 Axes>"
      ]
     },
     "metadata": {},
     "output_type": "display_data"
    }
   ],
   "source": [
    "sns.barplot(x='genero',y='acesso', data=df) # pouca relação aparente entre genero e acesso"
   ]
  },
  {
   "cell_type": "code",
   "execution_count": 30,
   "metadata": {},
   "outputs": [
    {
     "data": {
      "text/plain": [
       "Text(0, 0.5, 'acessos')"
      ]
     },
     "execution_count": 30,
     "metadata": {},
     "output_type": "execute_result"
    },
    {
     "data": {
      "image/png": "[encoded data removed]",
      "text/plain": [
       "<Figure size 2160x288 with 1 Axes>"
      ]
     },
     "metadata": {},
     "output_type": "display_data"
    }
   ],
   "source": [
    "fig, axis1 = plt.subplots(1,1,figsize=(30,4))\n",
    "average_qtd = df[[\"sms_entregue\", \"acesso\"]].groupby(['sms_entregue'],as_index=False).mean()\n",
    "sns.barplot(x='sms_entregue', y='acesso', data=average_qtd)\n",
    "plt.xlabel('sms_entregue', fontsize=25)\n",
    "plt.ylabel('acessos', fontsize=20)\n",
    "# em geral, existem picos de eficácia do numero de sms entregues"
   ]
  },
  {
   "cell_type": "code",
   "execution_count": 31,
   "metadata": {},
   "outputs": [
    {
     "data": {
      "text/plain": [
       "Text(0, 0.5, 'acessos')"
      ]
     },
     "execution_count": 31,
     "metadata": {},
     "output_type": "execute_result"
    },
    {
     "data": {
      "image/png": "[encoded data removed]",
      "text/plain": [
       "<Figure size 2160x288 with 1 Axes>"
      ]
     },
     "metadata": {},
     "output_type": "display_data"
    }
   ],
   "source": [
    "fig, axis1 = plt.subplots(1,1,figsize=(30,4))\n",
    "average_qtd = df[[\"sms_total_tent\", \"acesso\"]].groupby(['sms_total_tent'],as_index=False).mean()\n",
    "sns.barplot(x='sms_total_tent', y='acesso', data=average_qtd)\n",
    "plt.xlabel('sms_entregue', fontsize=25)\n",
    "plt.ylabel('acessos', fontsize=20)"
   ]
  },
  {
   "cell_type": "code",
   "execution_count": 32,
   "metadata": {},
   "outputs": [
    {
     "data": {
      "text/plain": [
       "<seaborn.axisgrid.FacetGrid at 0x2abb723a520>"
      ]
     },
     "execution_count": 32,
     "metadata": {},
     "output_type": "execute_result"
    },
    {
     "data": {
      "image/png": "[encoded data removed]",
      "text/plain": [
       "<Figure size 910.8x216 with 1 Axes>"
      ]
     },
     "metadata": {},
     "output_type": "display_data"
    }
   ],
   "source": [
    "facet = sns.FacetGrid(df, hue=\"acesso\",aspect=4)\n",
    "facet.map(sns.kdeplot,'idade',shade= True)\n",
    "facet.set(xlim=(0, df['idade'].max()))\n",
    "facet.add_legend() # seguem distribuições parecidas com relação às idades"
   ]
  },
  {
   "cell_type": "code",
   "execution_count": 33,
   "metadata": {},
   "outputs": [
    {
     "data": {
      "text/plain": [
       "<AxesSubplot:xlabel='utilizacaoweb', ylabel='acesso'>"
      ]
     },
     "execution_count": 33,
     "metadata": {},
     "output_type": "execute_result"
    },
    {
     "data": {
      "image/png": "[encoded data removed]",
      "text/plain": [
       "<Figure size 432x288 with 1 Axes>"
      ]
     },
     "metadata": {},
     "output_type": "display_data"
    }
   ],
   "source": [
    "sns.barplot(x='utilizacaoweb',y='acesso', data=df, order=df.utilizacaoweb.value_counts().index.sort_values())\n",
    "# maior probabilidade de acesso nas categorias A, B e C"
   ]
  },
  {
   "cell_type": "code",
   "execution_count": 34,
   "metadata": {},
   "outputs": [
    {
     "data": {
      "text/plain": [
       "True     675218\n",
       "False     11165\n",
       "dtype: int64"
      ]
     },
     "execution_count": 34,
     "metadata": {},
     "output_type": "execute_result"
    }
   ],
   "source": [
    "(df.compradoronline==df.utilizacaoweb).value_counts() # comprador online é bem similar a utilizacaoweb"
   ]
  },
  {
   "cell_type": "code",
   "execution_count": 35,
   "metadata": {},
   "outputs": [
    {
     "data": {
      "text/plain": [
       "<AxesSubplot:xlabel='compradoronline', ylabel='acesso'>"
      ]
     },
     "execution_count": 35,
     "metadata": {},
     "output_type": "execute_result"
    },
    {
     "data": {
      "image/png": "[encoded data removed]",
      "text/plain": [
       "<Figure size 432x288 with 1 Axes>"
      ]
     },
     "metadata": {},
     "output_type": "display_data"
    }
   ],
   "source": [
    "sns.barplot(x='compradoronline',y='acesso', data=df, order=df.compradoronline.value_counts().index.sort_values())"
   ]
  },
  {
   "cell_type": "code",
   "execution_count": 36,
   "metadata": {},
   "outputs": [
    {
     "data": {
      "text/plain": [
       "<AxesSubplot:xlabel='vendedoronline', ylabel='acesso'>"
      ]
     },
     "execution_count": 36,
     "metadata": {},
     "output_type": "execute_result"
    },
    {
     "data": {
      "image/png": "[encoded data removed]",
      "text/plain": [
       "<Figure size 432x288 with 1 Axes>"
      ]
     },
     "metadata": {},
     "output_type": "display_data"
    }
   ],
   "source": [
    "sns.barplot(x='vendedoronline',y='acesso', data=df, order=df.vendedoronline.value_counts().index.sort_values())\n",
    "# maior desv pad nessa categoria"
   ]
  },
  {
   "cell_type": "markdown",
   "metadata": {},
   "source": [
    "# Modelos\n",
    "### Como acordos é uma fração dos acessos, obrigatoriamente, modelaremos os acessos\n",
    "#### fazer train-test split com 30% da base (suficiente para treinar evitando overfitting)\n",
    "#### usar label encoder para variáveis categóricas\n",
    "#### normalizar variáveis numéricas para evitar pesos distorcidos a variáveis de maior ordem de grandeza\n",
    "#### usar min-max scaler\n",
    "##### testar: KNN, RegLog, ElasticNet"
   ]
  },
  {
   "cell_type": "markdown",
   "metadata": {},
   "source": [
    "##### Features engineering"
   ]
  },
  {
   "cell_type": "code",
   "execution_count": 37,
   "metadata": {},
   "outputs": [
    {
     "name": "stderr",
     "output_type": "stream",
     "text": [
      "<ipython-input-37-05b5f271a29b>:1: SettingWithCopyWarning: \n",
      "A value is trying to be set on a copy of a slice from a DataFrame\n",
      "\n",
      "See the caveats in the documentation: https://pandas.pydata.org/pandas-docs/stable/user_guide/indexing.html#returning-a-view-versus-a-copy\n",
      "  df.genero[df.genero=='M'] = 0\n",
      "<ipython-input-37-05b5f271a29b>:2: SettingWithCopyWarning: \n",
      "A value is trying to be set on a copy of a slice from a DataFrame\n",
      "\n",
      "See the caveats in the documentation: https://pandas.pydata.org/pandas-docs/stable/user_guide/indexing.html#returning-a-view-versus-a-copy\n",
      "  df.genero[df.genero=='F'] = 1\n",
      "<ipython-input-37-05b5f271a29b>:3: SettingWithCopyWarning: \n",
      "A value is trying to be set on a copy of a slice from a DataFrame\n",
      "\n",
      "See the caveats in the documentation: https://pandas.pydata.org/pandas-docs/stable/user_guide/indexing.html#returning-a-view-versus-a-copy\n",
      "  df.genero[df.genero=='U'] = 2\n"
     ]
    }
   ],
   "source": [
    "df.genero[df.genero=='M'] = 0\n",
    "df.genero[df.genero=='F'] = 1\n",
    "df.genero[df.genero=='U'] = 2"
   ]
  },
  {
   "cell_type": "code",
   "execution_count": 38,
   "metadata": {},
   "outputs": [
    {
     "data": {
      "text/plain": [
       "datadisparo                datetime64[ns]\n",
       "ddd                                 int64\n",
       "sms_entregue                        int64\n",
       "sms_enviado                         int64\n",
       "sms_naoentregue                     int64\n",
       "sms_rejeitado                       int64\n",
       "data_atraso                datetime64[ns]\n",
       "valor                             float64\n",
       "operadora                          object\n",
       "qtd_hist_acessos                    int64\n",
       "data_maisrecente_acesso    datetime64[ns]\n",
       "data_maisantiga_acesso     datetime64[ns]\n",
       "sms_total_tent                      int64\n",
       "idade                             float64\n",
       "genero                             object\n",
       "compradoronline                    object\n",
       "vendedoronline                     object\n",
       "utilizacaoweb                      object\n",
       "rendaestimada                      object\n",
       "acesso                              int64\n",
       "acordo                              int64\n",
       "rendaestimada_labelled              int64\n",
       "dtype: object"
      ]
     },
     "execution_count": 38,
     "metadata": {},
     "output_type": "execute_result"
    }
   ],
   "source": [
    "df.dtypes"
   ]
  },
  {
   "cell_type": "code",
   "execution_count": 39,
   "metadata": {},
   "outputs": [],
   "source": [
    "df.genero = df.genero.astype('str')\n",
    "\n",
    "# transformando colunas categoricas em ints\n",
    "for col in df.dtypes[df.dtypes.values=='object'].index:\n",
    "    lbl = LabelEncoder()\n",
    "    lbl.fit(list(df[col].values))\n",
    "    df[col] = lbl.transform(list(df[col].values))"
   ]
  },
  {
   "cell_type": "code",
   "execution_count": 40,
   "metadata": {},
   "outputs": [],
   "source": [
    "df.drop(['data_maisrecente_acesso', 'data_maisantiga_acesso'], axis=1, inplace=True)"
   ]
  },
  {
   "cell_type": "code",
   "execution_count": 41,
   "metadata": {},
   "outputs": [],
   "source": [
    "df['Atraso-Disparo'] = df.datadisparo-df.data_atraso"
   ]
  },
  {
   "cell_type": "code",
   "execution_count": 42,
   "metadata": {},
   "outputs": [],
   "source": [
    "df['Atraso-Disparo'] = df['Atraso-Disparo'].dt.days"
   ]
  },
  {
   "cell_type": "code",
   "execution_count": 43,
   "metadata": {},
   "outputs": [],
   "source": [
    "for col in df.drop(['datadisparo','data_atraso'], axis=1).columns:\n",
    "    df[col].fillna(df[col].median(), inplace=True) # preenchendo NaNs das colunas numéricas com suas medianas"
   ]
  },
  {
   "cell_type": "code",
   "execution_count": 44,
   "metadata": {},
   "outputs": [],
   "source": [
    "# target and features variables\n",
    "y = df['acesso'].values\n",
    "x = df.drop(['acesso','acordo','rendaestimada', 'datadisparo','data_atraso'], axis=1).values"
   ]
  },
  {
   "cell_type": "code",
   "execution_count": 45,
   "metadata": {},
   "outputs": [],
   "source": [
    "# para todas as colunas estarem entre 0 e 1\n",
    "min_max_scaler = preprocessing.MinMaxScaler()\n",
    "x_scaled = min_max_scaler.fit_transform(x)\n",
    "df1 = pd.pandas.DataFrame(x_scaled)\n",
    "X_train, X_test, y_train, y_test = train_test_split(x_scaled, y, test_size = 0.3, random_state=42, stratify=y)"
   ]
  },
  {
   "cell_type": "code",
   "execution_count": null,
   "metadata": {},
   "outputs": [],
   "source": [
    "from sklearn.neighbors import KNeighborsClassifier\n",
    "\n",
    "vizinhos = np.arange(1, 15)\n",
    "train_accuracy = np.empty(len(vizinhos))\n",
    "test_accuracy = np.empty(len(vizinhos))\n",
    "\n",
    "for i, k in enumerate(vizinhos):\n",
    "    knn = KNeighborsClassifier(n_neighbors = k)\n",
    "\n",
    "    knn.fit(X_train, y_train)\n",
    "    \n",
    "    train_accuracy[i] = knn.score(X_train, y_train)\n",
    "\n",
    "    test_accuracy[i] = knn.score(X_test, y_test)\n",
    "\n",
    "plt.title('k-NN: Variando Número de Vizinhos')\n",
    "plt.plot(vizinhos, train_accuracy, label = 'Training Accuracy')\n",
    "plt.plot(vizinhos, test_accuracy, label = 'Testing Accuracy')\n",
    "plt.legend()\n",
    "plt.xlabel('Número de Vizinhos')\n",
    "plt.ylabel('Accuracy')\n",
    "plt.show()"
   ]
  },
  {
   "cell_type": "code",
   "execution_count": 47,
   "metadata": {},
   "outputs": [],
   "source": [
    "from sklearn.utils import resample\n",
    "from sklearn.metrics import roc_curve\n",
    "from sklearn.naive_bayes import GaussianNB\n",
    "\n",
    "GNB = GaussianNB()\n",
    "\n",
    "model = GNB.fit(X_train, y_train)"
   ]
  },
  {
   "cell_type": "code",
   "execution_count": 48,
   "metadata": {},
   "outputs": [
    {
     "name": "stdout",
     "output_type": "stream",
     "text": [
      "Training score data: \n",
      "0.19344056211860103\n"
     ]
    }
   ],
   "source": [
    "print(\"Training score data: \")\n",
    "print(model.score(X_train, y_train))"
   ]
  },
  {
   "cell_type": "code",
   "execution_count": 50,
   "metadata": {},
   "outputs": [
    {
     "name": "stdout",
     "output_type": "stream",
     "text": [
      "0.19223951630527158\n",
      "\n",
      "\n",
      "[[ 33998 166264]\n",
      " [    66   5587]]\n",
      "\n",
      "\n",
      "              precision    recall  f1-score   support\n",
      "\n",
      "           0       1.00      0.17      0.29    200262\n",
      "           1       0.03      0.99      0.06      5653\n",
      "\n",
      "    accuracy                           0.19    205915\n",
      "   macro avg       0.52      0.58      0.18    205915\n",
      "weighted avg       0.97      0.19      0.28    205915\n",
      "\n"
     ]
    }
   ],
   "source": [
    "from sklearn.metrics import accuracy_score, confusion_matrix, classification_report, fbeta_score #To evaluate our model\n",
    "\n",
    "\n",
    "y_pred = model.predict(X_test)\n",
    "\n",
    "print(accuracy_score(y_test,y_pred))\n",
    "print(\"\\n\")\n",
    "print(confusion_matrix(y_test, y_pred))\n",
    "print(\"\\n\")\n",
    "print(classification_report(y_test, y_pred))"
   ]
  },
  {
   "cell_type": "code",
   "execution_count": 51,
   "metadata": {},
   "outputs": [
    {
     "data": {
      "image/png": "[encoded data removed]",
      "text/plain": [
       "<Figure size 432x288 with 1 Axes>"
      ]
     },
     "metadata": {},
     "output_type": "display_data"
    }
   ],
   "source": [
    "y_pred_prob = model.predict_proba(X_test)[:,1]\n",
    "\n",
    "fpr, tpr, thresholds = roc_curve(y_test, y_pred_prob)\n",
    "\n",
    "plt.plot([0, 1], [0, 1], 'k--')\n",
    "plt.plot(fpr, tpr)\n",
    "plt.xlabel('False Positive Rate')\n",
    "plt.ylabel('True Positive Rate')\n",
    "plt.title('ROC Curve')\n",
    "plt.show()"
   ]
  },
  {
   "cell_type": "code",
   "execution_count": 52,
   "metadata": {},
   "outputs": [],
   "source": [
    "from sklearn.model_selection import KFold\n",
    "from sklearn.model_selection import cross_val_score\n",
    "from sklearn.pipeline import Pipeline\n",
    "from sklearn.pipeline import FeatureUnion\n",
    "from sklearn.linear_model import LogisticRegression\n",
    "from sklearn.decomposition import PCA\n",
    "from sklearn.feature_selection import SelectKBest"
   ]
  },
  {
   "cell_type": "code",
   "execution_count": 53,
   "metadata": {},
   "outputs": [
    {
     "name": "stderr",
     "output_type": "stream",
     "text": [
      "C:\\Users\\lucas\\anaconda3\\lib\\site-packages\\sklearn\\model_selection\\_split.py:293: FutureWarning: Setting a random_state has no effect since shuffle is False. This will raise an error in 0.24. You should leave random_state to its default (None), or set shuffle=True.\n",
      "  warnings.warn(\n"
     ]
    },
    {
     "name": "stdout",
     "output_type": "stream",
     "text": [
      "0.9479340983296597\n"
     ]
    }
   ],
   "source": [
    "features = []\n",
    "features.append(('pca', PCA(n_components=2)))\n",
    "features.append(('select_best', SelectKBest(k=6)))\n",
    "feature_union = FeatureUnion(features)\n",
    "\n",
    "estimators = []\n",
    "estimators.append(('feature_union', feature_union))\n",
    "estimators.append(('logistic', GaussianNB()))\n",
    "model = Pipeline(estimators)\n",
    "\n",
    "seed = 7\n",
    "kfold = KFold(n_splits=10, random_state=seed)\n",
    "results = cross_val_score(model, X_train, y_train, cv=kfold)\n",
    "print(results.mean())"
   ]
  },
  {
   "cell_type": "code",
   "execution_count": 54,
   "metadata": {},
   "outputs": [
    {
     "name": "stdout",
     "output_type": "stream",
     "text": [
      "0.9480902314061628\n",
      "\n",
      "\n",
      "[[193821   6441]\n",
      " [  4248   1405]]\n",
      "\n",
      "\n",
      "0.23064547902029023\n"
     ]
    }
   ],
   "source": [
    "model.fit(X_train, y_train)\n",
    "y_pred = model.predict(X_test)\n",
    "\n",
    "print(accuracy_score(y_test,y_pred))\n",
    "print(\"\\n\")\n",
    "print(confusion_matrix(y_test, y_pred))\n",
    "print(\"\\n\")\n",
    "print(fbeta_score(y_test, y_pred, beta=2))"
   ]
  },
  {
   "cell_type": "code",
   "execution_count": 57,
   "metadata": {},
   "outputs": [
    {
     "data": {
      "text/plain": [
       "RandomForestClassifier(max_features=10, n_estimators=15, random_state=2)"
      ]
     },
     "execution_count": 57,
     "metadata": {},
     "output_type": "execute_result"
    }
   ],
   "source": [
    "from sklearn.ensemble import RandomForestClassifier\n",
    "\n",
    "rf = RandomForestClassifier(max_depth=None, max_features=10, n_estimators=15, random_state=2)\n",
    "rf.fit(X_train, y_train)"
   ]
  },
  {
   "cell_type": "code",
   "execution_count": 58,
   "metadata": {},
   "outputs": [
    {
     "name": "stdout",
     "output_type": "stream",
     "text": [
      "0.971595075638006\n",
      "\n",
      "\n",
      "[[199674    588]\n",
      " [  5261    392]]\n",
      "\n",
      "\n",
      "0.08307900983384198\n"
     ]
    }
   ],
   "source": [
    "y_pred = rf.predict(X_test)\n",
    "\n",
    "print(accuracy_score(y_test,y_pred))\n",
    "print(\"\\n\")\n",
    "print(confusion_matrix(y_test, y_pred))\n",
    "print(\"\\n\")\n",
    "print(fbeta_score(y_test, y_pred, beta=2))"
   ]
  }
 ],
 "metadata": {
  "kernelspec": {
   "display_name": "Python 3",
   "language": "python",
   "name": "python3"
  },
  "language_info": {
   "codemirror_mode": {
    "name": "ipython",
    "version": 3
   },
   "file_extension": ".py",
   "mimetype": "text/x-python",
   "name": "python",
   "nbconvert_exporter": "python",
   "pygments_lexer": "ipython3",
   "version": "3.8.3"
  }
 },
 "nbformat": 4,
 "nbformat_minor": 4
}
