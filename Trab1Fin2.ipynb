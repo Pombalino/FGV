{
 "cells": [
  {
   "cell_type": "code",
   "execution_count": 52,
   "metadata": {},
   "outputs": [],
   "source": [
    "import pandas as pd\n",
    "import numpy as np\n",
    "import matplotlib.pyplot as plt  # Gráficos\n",
    "import seaborn as sns\n",
    "import statsmodels.api as sm # forecast"
   ]
  },
  {
   "cell_type": "code",
   "execution_count": 22,
   "metadata": {},
   "outputs": [
    {
     "data": {
      "text/html": [
       "<div>\n",
       "<style scoped>\n",
       "    .dataframe tbody tr th:only-of-type {\n",
       "        vertical-align: middle;\n",
       "    }\n",
       "\n",
       "    .dataframe tbody tr th {\n",
       "        vertical-align: top;\n",
       "    }\n",
       "\n",
       "    .dataframe thead th {\n",
       "        text-align: right;\n",
       "    }\n",
       "</style>\n",
       "<table border=\"1\" class=\"dataframe\">\n",
       "  <thead>\n",
       "    <tr style=\"text-align: right;\">\n",
       "      <th></th>\n",
       "      <th>IBOV_PX_LAST</th>\n",
       "      <th>IBOV_Var</th>\n",
       "      <th>IBOV_Base100</th>\n",
       "      <th>SELIC_PX_LAST</th>\n",
       "      <th>SELIC_Daily Yield</th>\n",
       "      <th>SELIC_Base100</th>\n",
       "    </tr>\n",
       "    <tr>\n",
       "      <th>Date</th>\n",
       "      <th></th>\n",
       "      <th></th>\n",
       "      <th></th>\n",
       "      <th></th>\n",
       "      <th></th>\n",
       "      <th></th>\n",
       "    </tr>\n",
       "  </thead>\n",
       "  <tbody>\n",
       "    <tr>\n",
       "      <th>2020-07-07</th>\n",
       "      <td>97761.0</td>\n",
       "      <td>-0.011888</td>\n",
       "      <td>2730.144102</td>\n",
       "      <td>2.15</td>\n",
       "      <td>0.000084</td>\n",
       "      <td>5887.391258</td>\n",
       "    </tr>\n",
       "    <tr>\n",
       "      <th>2020-07-06</th>\n",
       "      <td>98937.2</td>\n",
       "      <td>0.022449</td>\n",
       "      <td>2762.991510</td>\n",
       "      <td>2.15</td>\n",
       "      <td>0.000084</td>\n",
       "      <td>5886.894306</td>\n",
       "    </tr>\n",
       "    <tr>\n",
       "      <th>2020-07-03</th>\n",
       "      <td>96764.9</td>\n",
       "      <td>0.005506</td>\n",
       "      <td>2702.326296</td>\n",
       "      <td>2.15</td>\n",
       "      <td>0.000084</td>\n",
       "      <td>5886.397395</td>\n",
       "    </tr>\n",
       "    <tr>\n",
       "      <th>2020-07-02</th>\n",
       "      <td>96235.0</td>\n",
       "      <td>0.000331</td>\n",
       "      <td>2687.527927</td>\n",
       "      <td>2.15</td>\n",
       "      <td>0.000084</td>\n",
       "      <td>5885.900526</td>\n",
       "    </tr>\n",
       "    <tr>\n",
       "      <th>2020-07-01</th>\n",
       "      <td>96203.2</td>\n",
       "      <td>0.012071</td>\n",
       "      <td>2686.639857</td>\n",
       "      <td>2.15</td>\n",
       "      <td>0.000084</td>\n",
       "      <td>5885.403699</td>\n",
       "    </tr>\n",
       "  </tbody>\n",
       "</table>\n",
       "</div>"
      ],
      "text/plain": [
       "            IBOV_PX_LAST  IBOV_Var  IBOV_Base100  SELIC_PX_LAST  \\\n",
       "Date                                                              \n",
       "2020-07-07       97761.0 -0.011888   2730.144102           2.15   \n",
       "2020-07-06       98937.2  0.022449   2762.991510           2.15   \n",
       "2020-07-03       96764.9  0.005506   2702.326296           2.15   \n",
       "2020-07-02       96235.0  0.000331   2687.527927           2.15   \n",
       "2020-07-01       96203.2  0.012071   2686.639857           2.15   \n",
       "\n",
       "            SELIC_Daily Yield  SELIC_Base100  \n",
       "Date                                          \n",
       "2020-07-07           0.000084    5887.391258  \n",
       "2020-07-06           0.000084    5886.894306  \n",
       "2020-07-03           0.000084    5886.397395  \n",
       "2020-07-02           0.000084    5885.900526  \n",
       "2020-07-01           0.000084    5885.403699  "
      ]
     },
     "execution_count": 22,
     "metadata": {},
     "output_type": "execute_result"
    }
   ],
   "source": [
    "# importando a série histórica desde 1994\n",
    "sh = pd.read_excel(r\"C:\\Users\\Pohlmann\\Documents\\FGV\\9º Semestre\\Fin2\\Trabalho 1 - Fin2.xlsx\", sheet_name=\"SH\", index_col=0)\n",
    "sh.head()"
   ]
  },
  {
   "cell_type": "code",
   "execution_count": 46,
   "metadata": {
    "scrolled": true
   },
   "outputs": [
    {
     "data": {
      "image/png": "[encoded data removed]",
      "text/plain": [
       "<Figure size 432x288 with 1 Axes>"
      ]
     },
     "metadata": {},
     "output_type": "display_data"
    }
   ],
   "source": [
    "fig, ax = plt.subplots()\n",
    "ax.plot(sh.IBOV_Base100, label=\"IBOVESPA\")\n",
    "ax.plot(sh.SELIC_Base100, label=\"SELIC\")\n",
    "leg = ax.legend()"
   ]
  },
  {
   "cell_type": "code",
   "execution_count": 56,
   "metadata": {},
   "outputs": [
    {
     "data": {
      "text/plain": [
       "(array([2.720e+03, 2.725e+03, 4.670e+02, 2.860e+02, 1.990e+02, 1.000e+00,\n",
       "        2.200e+01, 0.000e+00, 4.000e+00, 9.000e+00]),\n",
       " array([8.44167981e-05, 4.75638215e-04, 8.66859632e-04, 1.25808105e-03,\n",
       "        1.64930247e-03, 2.04052388e-03, 2.43174530e-03, 2.82296672e-03,\n",
       "        3.21418814e-03, 3.60540955e-03, 3.99663097e-03]),\n",
       " <a list of 10 Patch objects>)"
      ]
     },
     "execution_count": 56,
     "metadata": {},
     "output_type": "execute_result"
    },
    {
     "data": {
      "image/png": "[encoded data removed]",
      "text/plain": [
       "<Figure size 432x288 with 2 Axes>"
      ]
     },
     "metadata": {},
     "output_type": "display_data"
    }
   ],
   "source": [
    "fig, ax = plt.subplots(1,2, sharey=True)\n",
    "ax[0].hist(sh.IBOV_Var)\n",
    "ax[1].hist(sh['SELIC_Daily Yield'])"
   ]
  },
  {
   "cell_type": "code",
   "execution_count": 48,
   "metadata": {},
   "outputs": [
    {
     "data": {
      "text/html": [
       "<div>\n",
       "<style scoped>\n",
       "    .dataframe tbody tr th:only-of-type {\n",
       "        vertical-align: middle;\n",
       "    }\n",
       "\n",
       "    .dataframe tbody tr th {\n",
       "        vertical-align: top;\n",
       "    }\n",
       "\n",
       "    .dataframe thead th {\n",
       "        text-align: right;\n",
       "    }\n",
       "</style>\n",
       "<table border=\"1\" class=\"dataframe\">\n",
       "  <thead>\n",
       "    <tr style=\"text-align: right;\">\n",
       "      <th></th>\n",
       "      <th>IBOV_PX_LAST</th>\n",
       "      <th>IBOV_Var</th>\n",
       "      <th>IBOV_Base100</th>\n",
       "      <th>SELIC_PX_LAST</th>\n",
       "      <th>SELIC_Daily Yield</th>\n",
       "      <th>SELIC_Base100</th>\n",
       "    </tr>\n",
       "    <tr>\n",
       "      <th>Date</th>\n",
       "      <th></th>\n",
       "      <th></th>\n",
       "      <th></th>\n",
       "      <th></th>\n",
       "      <th></th>\n",
       "      <th></th>\n",
       "    </tr>\n",
       "  </thead>\n",
       "  <tbody>\n",
       "    <tr>\n",
       "      <th>2020-07-07</th>\n",
       "      <td>97761.0</td>\n",
       "      <td>-0.011888</td>\n",
       "      <td>231.985477</td>\n",
       "      <td>2.15</td>\n",
       "      <td>0.000084</td>\n",
       "      <td>143.826120</td>\n",
       "    </tr>\n",
       "    <tr>\n",
       "      <th>2020-07-06</th>\n",
       "      <td>98937.2</td>\n",
       "      <td>0.022449</td>\n",
       "      <td>234.776583</td>\n",
       "      <td>2.15</td>\n",
       "      <td>0.000084</td>\n",
       "      <td>143.813980</td>\n",
       "    </tr>\n",
       "    <tr>\n",
       "      <th>2020-07-03</th>\n",
       "      <td>96764.9</td>\n",
       "      <td>0.005506</td>\n",
       "      <td>229.621746</td>\n",
       "      <td>2.15</td>\n",
       "      <td>0.000084</td>\n",
       "      <td>143.801841</td>\n",
       "    </tr>\n",
       "    <tr>\n",
       "      <th>2020-07-02</th>\n",
       "      <td>96235.0</td>\n",
       "      <td>0.000331</td>\n",
       "      <td>228.364301</td>\n",
       "      <td>2.15</td>\n",
       "      <td>0.000084</td>\n",
       "      <td>143.789703</td>\n",
       "    </tr>\n",
       "    <tr>\n",
       "      <th>2020-07-01</th>\n",
       "      <td>96203.2</td>\n",
       "      <td>0.012071</td>\n",
       "      <td>228.288840</td>\n",
       "      <td>2.15</td>\n",
       "      <td>0.000084</td>\n",
       "      <td>143.777565</td>\n",
       "    </tr>\n",
       "  </tbody>\n",
       "</table>\n",
       "</div>"
      ],
      "text/plain": [
       "            IBOV_PX_LAST  IBOV_Var  IBOV_Base100  SELIC_PX_LAST  \\\n",
       "Date                                                              \n",
       "2020-07-07       97761.0 -0.011888    231.985477           2.15   \n",
       "2020-07-06       98937.2  0.022449    234.776583           2.15   \n",
       "2020-07-03       96764.9  0.005506    229.621746           2.15   \n",
       "2020-07-02       96235.0  0.000331    228.364301           2.15   \n",
       "2020-07-01       96203.2  0.012071    228.288840           2.15   \n",
       "\n",
       "            SELIC_Daily Yield  SELIC_Base100  \n",
       "Date                                          \n",
       "2020-07-07           0.000084     143.826120  \n",
       "2020-07-06           0.000084     143.813980  \n",
       "2020-07-03           0.000084     143.801841  \n",
       "2020-07-02           0.000084     143.789703  \n",
       "2020-07-01           0.000084     143.777565  "
      ]
     },
     "execution_count": 48,
     "metadata": {},
     "output_type": "execute_result"
    }
   ],
   "source": [
    "# importando a série histórica desde 2016\n",
    "sh16 = pd.read_excel(r\"C:\\Users\\Pohlmann\\Documents\\FGV\\9º Semestre\\Fin2\\Trabalho 1 - Fin2.xlsx\", sheet_name=\"SH16\", index_col=0)\n",
    "sh16.head()"
   ]
  },
  {
   "cell_type": "code",
   "execution_count": 51,
   "metadata": {},
   "outputs": [
    {
     "data": {
      "image/png": "[encoded data removed]",
      "text/plain": [
       "<Figure size 432x288 with 1 Axes>"
      ]
     },
     "metadata": {},
     "output_type": "display_data"
    }
   ],
   "source": [
    "fig, ax = plt.subplots()\n",
    "ax.plot(sh16.IBOV_Base100, label=\"IBOVESPA\")\n",
    "ax.plot(sh16.SELIC_Base100, label=\"SELIC\")\n",
    "plt.xticks(rotation=30)\n",
    "leg = ax.legend()"
   ]
  },
  {
   "cell_type": "code",
   "execution_count": null,
   "metadata": {},
   "outputs": [],
   "source": []
  }
 ],
 "metadata": {
  "kernelspec": {
   "display_name": "Python 3",
   "language": "python",
   "name": "python3"
  },
  "language_info": {
   "codemirror_mode": {
    "name": "ipython",
    "version": 3
   },
   "file_extension": ".py",
   "mimetype": "text/x-python",
   "name": "python",
   "nbconvert_exporter": "python",
   "pygments_lexer": "ipython3",
   "version": "3.6.5"
  }
 },
 "nbformat": 4,
 "nbformat_minor": 2
}
