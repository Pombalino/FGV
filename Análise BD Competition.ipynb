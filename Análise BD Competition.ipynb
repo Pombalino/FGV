{
 "cells": [
  {
   "cell_type": "code",
   "execution_count": 1,
   "metadata": {},
   "outputs": [],
   "source": [
    "import numpy as np # Alg. Lin.\n",
    "import pandas as pd # Process. Dados\n",
    "%matplotlib inline\n",
    "import matplotlib.pyplot as plt  # Gráficos\n",
    "import seaborn as sns\n",
    "from scipy import stats\n",
    "from scipy.stats import norm, skew # Para ver as estatísticas\n",
    "from sklearn.preprocessing import LabelEncoder # sklearn para Machine Learning\n",
    "from sklearn.linear_model import ElasticNet, Lasso,  BayesianRidge, LassoLarsIC\n",
    "from sklearn.kernel_ridge import KernelRidge\n",
    "from sklearn.pipeline import make_pipeline\n",
    "from sklearn.preprocessing import RobustScaler\n",
    "from sklearn.base import BaseEstimator, TransformerMixin, RegressorMixin, clone\n",
    "from sklearn.model_selection import KFold, cross_val_score, train_test_split\n",
    "from sklearn.metrics import mean_squared_error\n",
    "from sklearn.neighbors import KNeighborsClassifier"
   ]
  },
  {
   "cell_type": "code",
   "execution_count": 2,
   "metadata": {},
   "outputs": [
    {
     "data": {
      "text/html": [
       "<div>\n",
       "<style scoped>\n",
       "    .dataframe tbody tr th:only-of-type {\n",
       "        vertical-align: middle;\n",
       "    }\n",
       "\n",
       "    .dataframe tbody tr th {\n",
       "        vertical-align: top;\n",
       "    }\n",
       "\n",
       "    .dataframe thead th {\n",
       "        text-align: right;\n",
       "    }\n",
       "</style>\n",
       "<table border=\"1\" class=\"dataframe\">\n",
       "  <thead>\n",
       "    <tr style=\"text-align: right;\">\n",
       "      <th></th>\n",
       "      <th>Sexo</th>\n",
       "      <th>Idade</th>\n",
       "      <th>Modalidade</th>\n",
       "      <th>Turno</th>\n",
       "      <th>Idade do plano</th>\n",
       "      <th>Renda familiar</th>\n",
       "      <th>Renovacao</th>\n",
       "      <th>Profissao</th>\n",
       "      <th>Acesso a outras unidades</th>\n",
       "      <th>N absoluto de reclamacoes</th>\n",
       "    </tr>\n",
       "    <tr>\n",
       "      <th>ID</th>\n",
       "      <th></th>\n",
       "      <th></th>\n",
       "      <th></th>\n",
       "      <th></th>\n",
       "      <th></th>\n",
       "      <th></th>\n",
       "      <th></th>\n",
       "      <th></th>\n",
       "      <th></th>\n",
       "      <th></th>\n",
       "    </tr>\n",
       "  </thead>\n",
       "  <tbody>\n",
       "    <tr>\n",
       "      <th>1</th>\n",
       "      <td>F</td>\n",
       "      <td>59</td>\n",
       "      <td>M</td>\n",
       "      <td>MANHA</td>\n",
       "      <td>8</td>\n",
       "      <td>25535</td>\n",
       "      <td>Semestral</td>\n",
       "      <td>Engenheiro</td>\n",
       "      <td>NAO</td>\n",
       "      <td>1</td>\n",
       "    </tr>\n",
       "    <tr>\n",
       "      <th>2</th>\n",
       "      <td>F</td>\n",
       "      <td>66</td>\n",
       "      <td>NL</td>\n",
       "      <td>NOITE</td>\n",
       "      <td>21</td>\n",
       "      <td>14187</td>\n",
       "      <td>Anual</td>\n",
       "      <td>Empresario</td>\n",
       "      <td>NAO</td>\n",
       "      <td>0</td>\n",
       "    </tr>\n",
       "    <tr>\n",
       "      <th>3</th>\n",
       "      <td>M</td>\n",
       "      <td>35</td>\n",
       "      <td>MN</td>\n",
       "      <td>MANHA</td>\n",
       "      <td>74</td>\n",
       "      <td>19156</td>\n",
       "      <td>Anual</td>\n",
       "      <td>Empresario</td>\n",
       "      <td>NAO</td>\n",
       "      <td>0</td>\n",
       "    </tr>\n",
       "    <tr>\n",
       "      <th>4</th>\n",
       "      <td>F</td>\n",
       "      <td>52</td>\n",
       "      <td>N</td>\n",
       "      <td>NOITE</td>\n",
       "      <td>25</td>\n",
       "      <td>11737</td>\n",
       "      <td>Semestral</td>\n",
       "      <td>Arquiteto</td>\n",
       "      <td>NAO</td>\n",
       "      <td>0</td>\n",
       "    </tr>\n",
       "    <tr>\n",
       "      <th>5</th>\n",
       "      <td>M</td>\n",
       "      <td>24</td>\n",
       "      <td>MNL</td>\n",
       "      <td>MANHA</td>\n",
       "      <td>23</td>\n",
       "      <td>10474</td>\n",
       "      <td>Semestral</td>\n",
       "      <td>Comerciante</td>\n",
       "      <td>NAO</td>\n",
       "      <td>0</td>\n",
       "    </tr>\n",
       "  </tbody>\n",
       "</table>\n",
       "</div>"
      ],
      "text/plain": [
       "   Sexo  Idade Modalidade  Turno  Idade do plano  Renda familiar  Renovacao  \\\n",
       "ID                                                                            \n",
       "1     F     59          M  MANHA               8           25535  Semestral   \n",
       "2     F     66         NL  NOITE              21           14187      Anual   \n",
       "3     M     35         MN  MANHA              74           19156      Anual   \n",
       "4     F     52          N  NOITE              25           11737  Semestral   \n",
       "5     M     24        MNL  MANHA              23           10474  Semestral   \n",
       "\n",
       "      Profissao Acesso a outras unidades  N absoluto de reclamacoes  \n",
       "ID                                                                   \n",
       "1    Engenheiro                      NAO                          1  \n",
       "2    Empresario                      NAO                          0  \n",
       "3    Empresario                      NAO                          0  \n",
       "4     Arquiteto                      NAO                          0  \n",
       "5   Comerciante                      NAO                          0  "
      ]
     },
     "execution_count": 2,
     "metadata": {},
     "output_type": "execute_result"
    }
   ],
   "source": [
    "# Puxar os dados aqui\n",
    "np.random.seed(0)\n",
    "train = pd.read_excel(\"C:/Users/C339182/Downloads/BD_COMPETITION_VALORES.xlsx\",index_col=0,header=0)\n",
    "train.head(5)"
   ]
  },
  {
   "cell_type": "code",
   "execution_count": 3,
   "metadata": {},
   "outputs": [
    {
     "data": {
      "text/plain": [
       "F    897\n",
       "M    777\n",
       "Name: Sexo, dtype: int64"
      ]
     },
     "execution_count": 3,
     "metadata": {},
     "output_type": "execute_result"
    }
   ],
   "source": [
    "train['Sexo'].value_counts()"
   ]
  },
  {
   "cell_type": "code",
   "execution_count": 4,
   "metadata": {},
   "outputs": [
    {
     "name": "stdout",
     "output_type": "stream",
     "text": [
      "The shape is (1674, 10)\n"
     ]
    },
    {
     "data": {
      "image/png": "[encoded data removed]",
      "text/plain": [
       "<Figure size 432x288 with 1 Axes>"
      ]
     },
     "metadata": {},
     "output_type": "display_data"
    }
   ],
   "source": [
    "# Verificar outliers\n",
    "print(\"The shape is {}\".format(train.shape))\n",
    "\n",
    "fig, ax = plt.subplots()\n",
    "ax.bar(height = train['Renda familiar'], x = train['N absoluto de reclamacoes'])\n",
    "plt.ylabel('N', fontsize=13)\n",
    "plt.xlabel('Renda média', fontsize=13)\n",
    "plt.show()"
   ]
  },
  {
   "cell_type": "code",
   "execution_count": 5,
   "metadata": {},
   "outputs": [
    {
     "data": {
      "text/plain": [
       "<matplotlib.axes._subplots.AxesSubplot at 0x4f66c88>"
      ]
     },
     "execution_count": 5,
     "metadata": {},
     "output_type": "execute_result"
    },
    {
     "data": {
      "image/png": "[encoded data removed]",
      "text/plain": [
       "<Figure size 432x288 with 1 Axes>"
      ]
     },
     "metadata": {},
     "output_type": "display_data"
    }
   ],
   "source": [
    "train['Renda familiar'].hist(bins=10)"
   ]
  },
  {
   "cell_type": "code",
   "execution_count": 6,
   "metadata": {},
   "outputs": [
    {
     "name": "stdout",
     "output_type": "stream",
     "text": [
      "Quantidades de reclamações por quantidades\n",
      "0    0.757467\n",
      "1    0.237754\n",
      "3    0.002389\n",
      "2    0.002389\n",
      "Name: N absoluto de reclamacoes, dtype: float64\n",
      "\n",
      "\n"
     ]
    }
   ],
   "source": [
    "print('Quantidades de reclamações por quantidades')\n",
    "print(train['N absoluto de reclamacoes'].value_counts(normalize = True))\n",
    "print('\\n')"
   ]
  },
  {
   "cell_type": "code",
   "execution_count": 7,
   "metadata": {},
   "outputs": [
    {
     "name": "stdout",
     "output_type": "stream",
     "text": [
      "Quantidades de reclamações das mulheres\n",
      "0    0.764771\n",
      "1    0.230769\n",
      "3    0.002230\n",
      "2    0.002230\n",
      "Name: N absoluto de reclamacoes, dtype: float64\n",
      "\n",
      "\n"
     ]
    }
   ],
   "source": [
    "# Target variable: quantidade de reclamações\n",
    "# Fazer algumas distribuições pra ver a necessidade de padronizar dados. Padronizar por min-max se necessário. Ou log.\n",
    "print('Quantidades de reclamações das mulheres')\n",
    "print(train['N absoluto de reclamacoes'][train['Sexo']=='F'].value_counts(normalize = True))\n",
    "print('\\n')"
   ]
  },
  {
   "cell_type": "code",
   "execution_count": 8,
   "metadata": {},
   "outputs": [
    {
     "name": "stdout",
     "output_type": "stream",
     "text": [
      "Quantidades de reclamações dos homens\n",
      "0    0.749035\n",
      "1    0.245817\n",
      "3    0.002574\n",
      "2    0.002574\n",
      "Name: N absoluto de reclamacoes, dtype: float64\n",
      "\n",
      "\n"
     ]
    }
   ],
   "source": [
    "print('Quantidades de reclamações dos homens')\n",
    "print(train['N absoluto de reclamacoes'][train['Sexo']=='M'].value_counts(normalize = True))\n",
    "print('\\n')"
   ]
  },
  {
   "cell_type": "code",
   "execution_count": 9,
   "metadata": {},
   "outputs": [
    {
     "data": {
      "text/plain": [
       "<matplotlib.axes._subplots.AxesSubplot at 0xbf68240>"
      ]
     },
     "execution_count": 9,
     "metadata": {},
     "output_type": "execute_result"
    },
    {
     "data": {
      "image/png": "[encoded data removed]",
      "text/plain": [
       "<Figure size 432x288 with 1 Axes>"
      ]
     },
     "metadata": {},
     "output_type": "display_data"
    }
   ],
   "source": [
    "sns.barplot(x='Sexo',y='Idade do plano',hue='N absoluto de reclamacoes',data=train, estimator=lambda x: len(x) / len(train) * 100)"
   ]
  },
  {
   "cell_type": "code",
   "execution_count": 10,
   "metadata": {},
   "outputs": [
    {
     "data": {
      "image/png": "[encoded data removed]",
      "text/plain": [
       "<Figure size 864x576 with 2 Axes>"
      ]
     },
     "metadata": {},
     "output_type": "display_data"
    }
   ],
   "source": [
    "# Heatmap de correlações\n",
    "plt.figure(figsize=(12,8))\n",
    "sns.heatmap(train.corr(), cmap = sns.cubehelix_palette(8, start=.5, rot=-.75), annot=True)\n",
    "\n",
    "y_train = train[\"N absoluto de reclamacoes\"].values"
   ]
  },
  {
   "cell_type": "code",
   "execution_count": 11,
   "metadata": {},
   "outputs": [
    {
     "data": {
      "text/plain": [
       "<matplotlib.axes._subplots.AxesSubplot at 0xc3970b8>"
      ]
     },
     "execution_count": 11,
     "metadata": {},
     "output_type": "execute_result"
    },
    {
     "data": {
      "image/png": "[encoded data removed]",
      "text/plain": [
       "<Figure size 1296x288 with 1 Axes>"
      ]
     },
     "metadata": {},
     "output_type": "display_data"
    }
   ],
   "source": [
    "fig, axis1 = plt.subplots(1,1,figsize=(18,4))\n",
    "average_age = train[[\"Idade do plano\", \"N absoluto de reclamacoes\"]].groupby(['Idade do plano'],as_index=False).mean()\n",
    "sns.barplot(x='Idade do plano', y='N absoluto de reclamacoes', data=average_age)"
   ]
  },
  {
   "cell_type": "code",
   "execution_count": 12,
   "metadata": {},
   "outputs": [
    {
     "data": {
      "text/html": [
       "<style  type=\"text/css\" >\n",
       "    #T_42919492_68d6_11e8_9bb7_0040a72e3633row0_col0 {\n",
       "            background-color:  #9ab8d8;\n",
       "        }    #T_42919492_68d6_11e8_9bb7_0040a72e3633row0_col1 {\n",
       "            background-color:  #97b7d7;\n",
       "        }    #T_42919492_68d6_11e8_9bb7_0040a72e3633row0_col2 {\n",
       "            background-color:  #83afd3;\n",
       "        }    #T_42919492_68d6_11e8_9bb7_0040a72e3633row0_col3 {\n",
       "            background-color:  #a1bbda;\n",
       "        }    #T_42919492_68d6_11e8_9bb7_0040a72e3633row0_col4 {\n",
       "            background-color:  #7bacd1;\n",
       "        }    #T_42919492_68d6_11e8_9bb7_0040a72e3633row0_col5 {\n",
       "            background-color:  #99b8d8;\n",
       "        }    #T_42919492_68d6_11e8_9bb7_0040a72e3633row0_col6 {\n",
       "            background-color:  #afc1dd;\n",
       "        }    #T_42919492_68d6_11e8_9bb7_0040a72e3633row0_col7 {\n",
       "            background-color:  #99b8d8;\n",
       "        }    #T_42919492_68d6_11e8_9bb7_0040a72e3633row1_col0 {\n",
       "            background-color:  #f4eef6;\n",
       "        }    #T_42919492_68d6_11e8_9bb7_0040a72e3633row1_col1 {\n",
       "            background-color:  #ede7f2;\n",
       "        }    #T_42919492_68d6_11e8_9bb7_0040a72e3633row1_col2 {\n",
       "            background-color:  #f0eaf4;\n",
       "        }    #T_42919492_68d6_11e8_9bb7_0040a72e3633row1_col3 {\n",
       "            background-color:  #eee9f3;\n",
       "        }    #T_42919492_68d6_11e8_9bb7_0040a72e3633row1_col4 {\n",
       "            background-color:  #e3e0ee;\n",
       "        }    #T_42919492_68d6_11e8_9bb7_0040a72e3633row1_col5 {\n",
       "            background-color:  #e7e3f0;\n",
       "        }    #T_42919492_68d6_11e8_9bb7_0040a72e3633row1_col6 {\n",
       "            background-color:  #f1ebf4;\n",
       "        }    #T_42919492_68d6_11e8_9bb7_0040a72e3633row1_col7 {\n",
       "            background-color:  #ede7f2;\n",
       "        }    #T_42919492_68d6_11e8_9bb7_0040a72e3633row2_col0 {\n",
       "            background-color:  #fff7fb;\n",
       "        }    #T_42919492_68d6_11e8_9bb7_0040a72e3633row2_col1 {\n",
       "            background-color:  #fff7fb;\n",
       "        }    #T_42919492_68d6_11e8_9bb7_0040a72e3633row2_col2 {\n",
       "            background-color:  #fff7fb;\n",
       "        }    #T_42919492_68d6_11e8_9bb7_0040a72e3633row2_col3 {\n",
       "            background-color:  #fff7fb;\n",
       "        }    #T_42919492_68d6_11e8_9bb7_0040a72e3633row2_col4 {\n",
       "            background-color:  #fff7fb;\n",
       "        }    #T_42919492_68d6_11e8_9bb7_0040a72e3633row2_col5 {\n",
       "            background-color:  #fff7fb;\n",
       "        }    #T_42919492_68d6_11e8_9bb7_0040a72e3633row2_col6 {\n",
       "            background-color:  #fff7fb;\n",
       "        }    #T_42919492_68d6_11e8_9bb7_0040a72e3633row2_col7 {\n",
       "            background-color:  #fff7fb;\n",
       "        }    #T_42919492_68d6_11e8_9bb7_0040a72e3633row3_col0 {\n",
       "            background-color:  #fff7fb;\n",
       "        }    #T_42919492_68d6_11e8_9bb7_0040a72e3633row3_col1 {\n",
       "            background-color:  #fff7fb;\n",
       "        }    #T_42919492_68d6_11e8_9bb7_0040a72e3633row3_col2 {\n",
       "            background-color:  #fff7fb;\n",
       "        }    #T_42919492_68d6_11e8_9bb7_0040a72e3633row3_col3 {\n",
       "            background-color:  #fff7fb;\n",
       "        }    #T_42919492_68d6_11e8_9bb7_0040a72e3633row3_col4 {\n",
       "            background-color:  #fff7fb;\n",
       "        }    #T_42919492_68d6_11e8_9bb7_0040a72e3633row3_col5 {\n",
       "            background-color:  #fff7fb;\n",
       "        }    #T_42919492_68d6_11e8_9bb7_0040a72e3633row3_col6 {\n",
       "            background-color:  #fff7fb;\n",
       "        }    #T_42919492_68d6_11e8_9bb7_0040a72e3633row3_col7 {\n",
       "            background-color:  #fff7fb;\n",
       "        }    #T_42919492_68d6_11e8_9bb7_0040a72e3633row4_col0 {\n",
       "            background-color:  #7eadd1;\n",
       "        }    #T_42919492_68d6_11e8_9bb7_0040a72e3633row4_col1 {\n",
       "            background-color:  #b0c2de;\n",
       "        }    #T_42919492_68d6_11e8_9bb7_0040a72e3633row4_col2 {\n",
       "            background-color:  #b1c2de;\n",
       "        }    #T_42919492_68d6_11e8_9bb7_0040a72e3633row4_col3 {\n",
       "            background-color:  #a9bfdc;\n",
       "        }    #T_42919492_68d6_11e8_9bb7_0040a72e3633row4_col4 {\n",
       "            background-color:  #cacee5;\n",
       "        }    #T_42919492_68d6_11e8_9bb7_0040a72e3633row4_col5 {\n",
       "            background-color:  #b9c6e0;\n",
       "        }    #T_42919492_68d6_11e8_9bb7_0040a72e3633row4_col6 {\n",
       "            background-color:  #99b8d8;\n",
       "        }    #T_42919492_68d6_11e8_9bb7_0040a72e3633row4_col7 {\n",
       "            background-color:  #b0c2de;\n",
       "        }    #T_42919492_68d6_11e8_9bb7_0040a72e3633row5_col0 {\n",
       "            background-color:  #f8f1f8;\n",
       "        }    #T_42919492_68d6_11e8_9bb7_0040a72e3633row5_col1 {\n",
       "            background-color:  #eee8f3;\n",
       "        }    #T_42919492_68d6_11e8_9bb7_0040a72e3633row5_col2 {\n",
       "            background-color:  #f2ecf5;\n",
       "        }    #T_42919492_68d6_11e8_9bb7_0040a72e3633row5_col3 {\n",
       "            background-color:  #ece7f2;\n",
       "        }    #T_42919492_68d6_11e8_9bb7_0040a72e3633row5_col4 {\n",
       "            background-color:  #f4eef6;\n",
       "        }    #T_42919492_68d6_11e8_9bb7_0040a72e3633row5_col5 {\n",
       "            background-color:  #ede8f3;\n",
       "        }    #T_42919492_68d6_11e8_9bb7_0040a72e3633row5_col6 {\n",
       "            background-color:  #e7e3f0;\n",
       "        }    #T_42919492_68d6_11e8_9bb7_0040a72e3633row5_col7 {\n",
       "            background-color:  #eee9f3;\n",
       "        }    #T_42919492_68d6_11e8_9bb7_0040a72e3633row6_col0 {\n",
       "            background-color:  #fff7fb;\n",
       "        }    #T_42919492_68d6_11e8_9bb7_0040a72e3633row6_col1 {\n",
       "            background-color:  #fff7fb;\n",
       "        }    #T_42919492_68d6_11e8_9bb7_0040a72e3633row6_col2 {\n",
       "            background-color:  #fff7fb;\n",
       "        }    #T_42919492_68d6_11e8_9bb7_0040a72e3633row6_col3 {\n",
       "            background-color:  #fff7fb;\n",
       "        }    #T_42919492_68d6_11e8_9bb7_0040a72e3633row6_col4 {\n",
       "            background-color:  #fff7fb;\n",
       "        }    #T_42919492_68d6_11e8_9bb7_0040a72e3633row6_col5 {\n",
       "            background-color:  #fef6fb;\n",
       "        }    #T_42919492_68d6_11e8_9bb7_0040a72e3633row6_col6 {\n",
       "            background-color:  #fff7fb;\n",
       "        }    #T_42919492_68d6_11e8_9bb7_0040a72e3633row6_col7 {\n",
       "            background-color:  #fff7fb;\n",
       "        }    #T_42919492_68d6_11e8_9bb7_0040a72e3633row7_col0 {\n",
       "            background-color:  #fff7fb;\n",
       "        }    #T_42919492_68d6_11e8_9bb7_0040a72e3633row7_col1 {\n",
       "            background-color:  #fff7fb;\n",
       "        }    #T_42919492_68d6_11e8_9bb7_0040a72e3633row7_col2 {\n",
       "            background-color:  #fff7fb;\n",
       "        }    #T_42919492_68d6_11e8_9bb7_0040a72e3633row7_col3 {\n",
       "            background-color:  #fff7fb;\n",
       "        }    #T_42919492_68d6_11e8_9bb7_0040a72e3633row7_col4 {\n",
       "            background-color:  #fef6fa;\n",
       "        }    #T_42919492_68d6_11e8_9bb7_0040a72e3633row7_col5 {\n",
       "            background-color:  #fff7fb;\n",
       "        }    #T_42919492_68d6_11e8_9bb7_0040a72e3633row7_col6 {\n",
       "            background-color:  #fff7fb;\n",
       "        }    #T_42919492_68d6_11e8_9bb7_0040a72e3633row7_col7 {\n",
       "            background-color:  #fff7fb;\n",
       "        }    #T_42919492_68d6_11e8_9bb7_0040a72e3633row8_col0 {\n",
       "            background-color:  #023858;\n",
       "        }    #T_42919492_68d6_11e8_9bb7_0040a72e3633row8_col1 {\n",
       "            background-color:  #023858;\n",
       "        }    #T_42919492_68d6_11e8_9bb7_0040a72e3633row8_col2 {\n",
       "            background-color:  #023858;\n",
       "        }    #T_42919492_68d6_11e8_9bb7_0040a72e3633row8_col3 {\n",
       "            background-color:  #023858;\n",
       "        }    #T_42919492_68d6_11e8_9bb7_0040a72e3633row8_col4 {\n",
       "            background-color:  #023858;\n",
       "        }    #T_42919492_68d6_11e8_9bb7_0040a72e3633row8_col5 {\n",
       "            background-color:  #023858;\n",
       "        }    #T_42919492_68d6_11e8_9bb7_0040a72e3633row8_col6 {\n",
       "            background-color:  #023858;\n",
       "        }    #T_42919492_68d6_11e8_9bb7_0040a72e3633row8_col7 {\n",
       "            background-color:  #023858;\n",
       "        }</style>  \n",
       "<table id=\"T_42919492_68d6_11e8_9bb7_0040a72e3633\" > \n",
       "<thead>    <tr> \n",
       "        <th class=\"blank\" ></th> \n",
       "        <th class=\"index_name level0\" >Modalidade</th> \n",
       "        <th class=\"col_heading level0 col0\" >L</th> \n",
       "        <th class=\"col_heading level0 col1\" >M</th> \n",
       "        <th class=\"col_heading level0 col2\" >ML</th> \n",
       "        <th class=\"col_heading level0 col3\" >MN</th> \n",
       "        <th class=\"col_heading level0 col4\" >MNL</th> \n",
       "        <th class=\"col_heading level0 col5\" >N</th> \n",
       "        <th class=\"col_heading level0 col6\" >NL</th> \n",
       "        <th class=\"col_heading level0 col7\" >All</th> \n",
       "    </tr>    <tr> \n",
       "        <th class=\"index_name level0\" >Sexo</th> \n",
       "        <th class=\"index_name level1\" >N absoluto de reclamacoes</th> \n",
       "        <th class=\"blank\" ></th> \n",
       "        <th class=\"blank\" ></th> \n",
       "        <th class=\"blank\" ></th> \n",
       "        <th class=\"blank\" ></th> \n",
       "        <th class=\"blank\" ></th> \n",
       "        <th class=\"blank\" ></th> \n",
       "        <th class=\"blank\" ></th> \n",
       "        <th class=\"blank\" ></th> \n",
       "    </tr></thead> \n",
       "<tbody>    <tr> \n",
       "        <th id=\"T_42919492_68d6_11e8_9bb7_0040a72e3633level0_row0\" class=\"row_heading level0 row0\" rowspan=4>F</th> \n",
       "        <th id=\"T_42919492_68d6_11e8_9bb7_0040a72e3633level1_row0\" class=\"row_heading level1 row0\" >0</th> \n",
       "        <td id=\"T_42919492_68d6_11e8_9bb7_0040a72e3633row0_col0\" class=\"data row0 col0\" >17</td> \n",
       "        <td id=\"T_42919492_68d6_11e8_9bb7_0040a72e3633row0_col1\" class=\"data row0 col1\" >317</td> \n",
       "        <td id=\"T_42919492_68d6_11e8_9bb7_0040a72e3633row0_col2\" class=\"data row0 col2\" >31</td> \n",
       "        <td id=\"T_42919492_68d6_11e8_9bb7_0040a72e3633row0_col3\" class=\"data row0 col3\" >140</td> \n",
       "        <td id=\"T_42919492_68d6_11e8_9bb7_0040a72e3633row0_col4\" class=\"data row0 col4\" >52</td> \n",
       "        <td id=\"T_42919492_68d6_11e8_9bb7_0040a72e3633row0_col5\" class=\"data row0 col5\" >93</td> \n",
       "        <td id=\"T_42919492_68d6_11e8_9bb7_0040a72e3633row0_col6\" class=\"data row0 col6\" >36</td> \n",
       "        <td id=\"T_42919492_68d6_11e8_9bb7_0040a72e3633row0_col7\" class=\"data row0 col7\" >686</td> \n",
       "    </tr>    <tr> \n",
       "        <th id=\"T_42919492_68d6_11e8_9bb7_0040a72e3633level1_row1\" class=\"row_heading level1 row1\" >1</th> \n",
       "        <td id=\"T_42919492_68d6_11e8_9bb7_0040a72e3633row1_col0\" class=\"data row1 col0\" >3</td> \n",
       "        <td id=\"T_42919492_68d6_11e8_9bb7_0040a72e3633row1_col1\" class=\"data row1 col1\" >95</td> \n",
       "        <td id=\"T_42919492_68d6_11e8_9bb7_0040a72e3633row1_col2\" class=\"data row1 col2\" >7</td> \n",
       "        <td id=\"T_42919492_68d6_11e8_9bb7_0040a72e3633row1_col3\" class=\"data row1 col3\" >40</td> \n",
       "        <td id=\"T_42919492_68d6_11e8_9bb7_0040a72e3633row1_col4\" class=\"data row1 col4\" >18</td> \n",
       "        <td id=\"T_42919492_68d6_11e8_9bb7_0040a72e3633row1_col5\" class=\"data row1 col5\" >34</td> \n",
       "        <td id=\"T_42919492_68d6_11e8_9bb7_0040a72e3633row1_col6\" class=\"data row1 col6\" >10</td> \n",
       "        <td id=\"T_42919492_68d6_11e8_9bb7_0040a72e3633row1_col7\" class=\"data row1 col7\" >207</td> \n",
       "    </tr>    <tr> \n",
       "        <th id=\"T_42919492_68d6_11e8_9bb7_0040a72e3633level1_row2\" class=\"row_heading level1 row2\" >2</th> \n",
       "        <td id=\"T_42919492_68d6_11e8_9bb7_0040a72e3633row2_col0\" class=\"data row2 col0\" >0</td> \n",
       "        <td id=\"T_42919492_68d6_11e8_9bb7_0040a72e3633row2_col1\" class=\"data row2 col1\" >2</td> \n",
       "        <td id=\"T_42919492_68d6_11e8_9bb7_0040a72e3633row2_col2\" class=\"data row2 col2\" >0</td> \n",
       "        <td id=\"T_42919492_68d6_11e8_9bb7_0040a72e3633row2_col3\" class=\"data row2 col3\" >0</td> \n",
       "        <td id=\"T_42919492_68d6_11e8_9bb7_0040a72e3633row2_col4\" class=\"data row2 col4\" >0</td> \n",
       "        <td id=\"T_42919492_68d6_11e8_9bb7_0040a72e3633row2_col5\" class=\"data row2 col5\" >0</td> \n",
       "        <td id=\"T_42919492_68d6_11e8_9bb7_0040a72e3633row2_col6\" class=\"data row2 col6\" >0</td> \n",
       "        <td id=\"T_42919492_68d6_11e8_9bb7_0040a72e3633row2_col7\" class=\"data row2 col7\" >2</td> \n",
       "    </tr>    <tr> \n",
       "        <th id=\"T_42919492_68d6_11e8_9bb7_0040a72e3633level1_row3\" class=\"row_heading level1 row3\" >3</th> \n",
       "        <td id=\"T_42919492_68d6_11e8_9bb7_0040a72e3633row3_col0\" class=\"data row3 col0\" >0</td> \n",
       "        <td id=\"T_42919492_68d6_11e8_9bb7_0040a72e3633row3_col1\" class=\"data row3 col1\" >1</td> \n",
       "        <td id=\"T_42919492_68d6_11e8_9bb7_0040a72e3633row3_col2\" class=\"data row3 col2\" >0</td> \n",
       "        <td id=\"T_42919492_68d6_11e8_9bb7_0040a72e3633row3_col3\" class=\"data row3 col3\" >1</td> \n",
       "        <td id=\"T_42919492_68d6_11e8_9bb7_0040a72e3633row3_col4\" class=\"data row3 col4\" >0</td> \n",
       "        <td id=\"T_42919492_68d6_11e8_9bb7_0040a72e3633row3_col5\" class=\"data row3 col5\" >0</td> \n",
       "        <td id=\"T_42919492_68d6_11e8_9bb7_0040a72e3633row3_col6\" class=\"data row3 col6\" >0</td> \n",
       "        <td id=\"T_42919492_68d6_11e8_9bb7_0040a72e3633row3_col7\" class=\"data row3 col7\" >2</td> \n",
       "    </tr>    <tr> \n",
       "        <th id=\"T_42919492_68d6_11e8_9bb7_0040a72e3633level0_row4\" class=\"row_heading level0 row4\" rowspan=4>M</th> \n",
       "        <th id=\"T_42919492_68d6_11e8_9bb7_0040a72e3633level1_row4\" class=\"row_heading level1 row4\" >0</th> \n",
       "        <td id=\"T_42919492_68d6_11e8_9bb7_0040a72e3633row4_col0\" class=\"data row4 col0\" >20</td> \n",
       "        <td id=\"T_42919492_68d6_11e8_9bb7_0040a72e3633row4_col1\" class=\"data row4 col1\" >265</td> \n",
       "        <td id=\"T_42919492_68d6_11e8_9bb7_0040a72e3633row4_col2\" class=\"data row4 col2\" >23</td> \n",
       "        <td id=\"T_42919492_68d6_11e8_9bb7_0040a72e3633row4_col3\" class=\"data row4 col3\" >131</td> \n",
       "        <td id=\"T_42919492_68d6_11e8_9bb7_0040a72e3633row4_col4\" class=\"data row4 col4\" >29</td> \n",
       "        <td id=\"T_42919492_68d6_11e8_9bb7_0040a72e3633row4_col5\" class=\"data row4 col5\" >72</td> \n",
       "        <td id=\"T_42919492_68d6_11e8_9bb7_0040a72e3633row4_col6\" class=\"data row4 col6\" >42</td> \n",
       "        <td id=\"T_42919492_68d6_11e8_9bb7_0040a72e3633row4_col7\" class=\"data row4 col7\" >582</td> \n",
       "    </tr>    <tr> \n",
       "        <th id=\"T_42919492_68d6_11e8_9bb7_0040a72e3633level1_row5\" class=\"row_heading level1 row5\" >1</th> \n",
       "        <td id=\"T_42919492_68d6_11e8_9bb7_0040a72e3633row5_col0\" class=\"data row5 col0\" >2</td> \n",
       "        <td id=\"T_42919492_68d6_11e8_9bb7_0040a72e3633row5_col1\" class=\"data row5 col1\" >87</td> \n",
       "        <td id=\"T_42919492_68d6_11e8_9bb7_0040a72e3633row5_col2\" class=\"data row5 col2\" >6</td> \n",
       "        <td id=\"T_42919492_68d6_11e8_9bb7_0040a72e3633row5_col3\" class=\"data row5 col3\" >46</td> \n",
       "        <td id=\"T_42919492_68d6_11e8_9bb7_0040a72e3633row5_col4\" class=\"data row5 col4\" >8</td> \n",
       "        <td id=\"T_42919492_68d6_11e8_9bb7_0040a72e3633row5_col5\" class=\"data row5 col5\" >27</td> \n",
       "        <td id=\"T_42919492_68d6_11e8_9bb7_0040a72e3633row5_col6\" class=\"data row5 col6\" >15</td> \n",
       "        <td id=\"T_42919492_68d6_11e8_9bb7_0040a72e3633row5_col7\" class=\"data row5 col7\" >191</td> \n",
       "    </tr>    <tr> \n",
       "        <th id=\"T_42919492_68d6_11e8_9bb7_0040a72e3633level1_row6\" class=\"row_heading level1 row6\" >2</th> \n",
       "        <td id=\"T_42919492_68d6_11e8_9bb7_0040a72e3633row6_col0\" class=\"data row6 col0\" >0</td> \n",
       "        <td id=\"T_42919492_68d6_11e8_9bb7_0040a72e3633row6_col1\" class=\"data row6 col1\" >0</td> \n",
       "        <td id=\"T_42919492_68d6_11e8_9bb7_0040a72e3633row6_col2\" class=\"data row6 col2\" >0</td> \n",
       "        <td id=\"T_42919492_68d6_11e8_9bb7_0040a72e3633row6_col3\" class=\"data row6 col3\" >1</td> \n",
       "        <td id=\"T_42919492_68d6_11e8_9bb7_0040a72e3633row6_col4\" class=\"data row6 col4\" >0</td> \n",
       "        <td id=\"T_42919492_68d6_11e8_9bb7_0040a72e3633row6_col5\" class=\"data row6 col5\" >1</td> \n",
       "        <td id=\"T_42919492_68d6_11e8_9bb7_0040a72e3633row6_col6\" class=\"data row6 col6\" >0</td> \n",
       "        <td id=\"T_42919492_68d6_11e8_9bb7_0040a72e3633row6_col7\" class=\"data row6 col7\" >2</td> \n",
       "    </tr>    <tr> \n",
       "        <th id=\"T_42919492_68d6_11e8_9bb7_0040a72e3633level1_row7\" class=\"row_heading level1 row7\" >3</th> \n",
       "        <td id=\"T_42919492_68d6_11e8_9bb7_0040a72e3633row7_col0\" class=\"data row7 col0\" >0</td> \n",
       "        <td id=\"T_42919492_68d6_11e8_9bb7_0040a72e3633row7_col1\" class=\"data row7 col1\" >0</td> \n",
       "        <td id=\"T_42919492_68d6_11e8_9bb7_0040a72e3633row7_col2\" class=\"data row7 col2\" >0</td> \n",
       "        <td id=\"T_42919492_68d6_11e8_9bb7_0040a72e3633row7_col3\" class=\"data row7 col3\" >1</td> \n",
       "        <td id=\"T_42919492_68d6_11e8_9bb7_0040a72e3633row7_col4\" class=\"data row7 col4\" >1</td> \n",
       "        <td id=\"T_42919492_68d6_11e8_9bb7_0040a72e3633row7_col5\" class=\"data row7 col5\" >0</td> \n",
       "        <td id=\"T_42919492_68d6_11e8_9bb7_0040a72e3633row7_col6\" class=\"data row7 col6\" >0</td> \n",
       "        <td id=\"T_42919492_68d6_11e8_9bb7_0040a72e3633row7_col7\" class=\"data row7 col7\" >2</td> \n",
       "    </tr>    <tr> \n",
       "        <th id=\"T_42919492_68d6_11e8_9bb7_0040a72e3633level0_row8\" class=\"row_heading level0 row8\" >All</th> \n",
       "        <th id=\"T_42919492_68d6_11e8_9bb7_0040a72e3633level1_row8\" class=\"row_heading level1 row8\" ></th> \n",
       "        <td id=\"T_42919492_68d6_11e8_9bb7_0040a72e3633row8_col0\" class=\"data row8 col0\" >42</td> \n",
       "        <td id=\"T_42919492_68d6_11e8_9bb7_0040a72e3633row8_col1\" class=\"data row8 col1\" >767</td> \n",
       "        <td id=\"T_42919492_68d6_11e8_9bb7_0040a72e3633row8_col2\" class=\"data row8 col2\" >67</td> \n",
       "        <td id=\"T_42919492_68d6_11e8_9bb7_0040a72e3633row8_col3\" class=\"data row8 col3\" >360</td> \n",
       "        <td id=\"T_42919492_68d6_11e8_9bb7_0040a72e3633row8_col4\" class=\"data row8 col4\" >108</td> \n",
       "        <td id=\"T_42919492_68d6_11e8_9bb7_0040a72e3633row8_col5\" class=\"data row8 col5\" >227</td> \n",
       "        <td id=\"T_42919492_68d6_11e8_9bb7_0040a72e3633row8_col6\" class=\"data row8 col6\" >103</td> \n",
       "        <td id=\"T_42919492_68d6_11e8_9bb7_0040a72e3633row8_col7\" class=\"data row8 col7\" >1674</td> \n",
       "    </tr></tbody> \n",
       "</table> "
      ],
      "text/plain": [
       "<pandas.io.formats.style.Styler at 0xc2c0a58>"
      ]
     },
     "execution_count": 12,
     "metadata": {},
     "output_type": "execute_result"
    }
   ],
   "source": [
    "pd.crosstab([train['Sexo'],train['N absoluto de reclamacoes']],train['Modalidade'],margins=True).style.background_gradient(cmap='PuBu')"
   ]
  },
  {
   "cell_type": "code",
   "execution_count": 13,
   "metadata": {},
   "outputs": [
    {
     "name": "stdout",
     "output_type": "stream",
     "text": [
      "Shape is (1674, 10)\n"
     ]
    },
    {
     "data": {
      "text/html": [
       "<div>\n",
       "<style scoped>\n",
       "    .dataframe tbody tr th:only-of-type {\n",
       "        vertical-align: middle;\n",
       "    }\n",
       "\n",
       "    .dataframe tbody tr th {\n",
       "        vertical-align: top;\n",
       "    }\n",
       "\n",
       "    .dataframe thead th {\n",
       "        text-align: right;\n",
       "    }\n",
       "</style>\n",
       "<table border=\"1\" class=\"dataframe\">\n",
       "  <thead>\n",
       "    <tr style=\"text-align: right;\">\n",
       "      <th></th>\n",
       "      <th>Sexo</th>\n",
       "      <th>Idade</th>\n",
       "      <th>Modalidade</th>\n",
       "      <th>Turno</th>\n",
       "      <th>Idade do plano</th>\n",
       "      <th>Renda familiar</th>\n",
       "      <th>Renovacao</th>\n",
       "      <th>Profissao</th>\n",
       "      <th>Acesso a outras unidades</th>\n",
       "      <th>N absoluto de reclamacoes</th>\n",
       "    </tr>\n",
       "    <tr>\n",
       "      <th>ID</th>\n",
       "      <th></th>\n",
       "      <th></th>\n",
       "      <th></th>\n",
       "      <th></th>\n",
       "      <th></th>\n",
       "      <th></th>\n",
       "      <th></th>\n",
       "      <th></th>\n",
       "      <th></th>\n",
       "      <th></th>\n",
       "    </tr>\n",
       "  </thead>\n",
       "  <tbody>\n",
       "    <tr>\n",
       "      <th>1</th>\n",
       "      <td>0</td>\n",
       "      <td>59</td>\n",
       "      <td>1</td>\n",
       "      <td>0</td>\n",
       "      <td>8</td>\n",
       "      <td>25535</td>\n",
       "      <td>1</td>\n",
       "      <td>6</td>\n",
       "      <td>0</td>\n",
       "      <td>1</td>\n",
       "    </tr>\n",
       "    <tr>\n",
       "      <th>2</th>\n",
       "      <td>0</td>\n",
       "      <td>66</td>\n",
       "      <td>6</td>\n",
       "      <td>1</td>\n",
       "      <td>21</td>\n",
       "      <td>14187</td>\n",
       "      <td>0</td>\n",
       "      <td>5</td>\n",
       "      <td>0</td>\n",
       "      <td>0</td>\n",
       "    </tr>\n",
       "    <tr>\n",
       "      <th>3</th>\n",
       "      <td>1</td>\n",
       "      <td>35</td>\n",
       "      <td>3</td>\n",
       "      <td>0</td>\n",
       "      <td>74</td>\n",
       "      <td>19156</td>\n",
       "      <td>0</td>\n",
       "      <td>5</td>\n",
       "      <td>0</td>\n",
       "      <td>0</td>\n",
       "    </tr>\n",
       "    <tr>\n",
       "      <th>4</th>\n",
       "      <td>0</td>\n",
       "      <td>52</td>\n",
       "      <td>5</td>\n",
       "      <td>1</td>\n",
       "      <td>25</td>\n",
       "      <td>11737</td>\n",
       "      <td>1</td>\n",
       "      <td>1</td>\n",
       "      <td>0</td>\n",
       "      <td>0</td>\n",
       "    </tr>\n",
       "    <tr>\n",
       "      <th>5</th>\n",
       "      <td>1</td>\n",
       "      <td>24</td>\n",
       "      <td>4</td>\n",
       "      <td>0</td>\n",
       "      <td>23</td>\n",
       "      <td>10474</td>\n",
       "      <td>1</td>\n",
       "      <td>3</td>\n",
       "      <td>0</td>\n",
       "      <td>0</td>\n",
       "    </tr>\n",
       "  </tbody>\n",
       "</table>\n",
       "</div>"
      ],
      "text/plain": [
       "    Sexo Idade  Modalidade  Turno Idade do plano  Renda familiar  Renovacao  \\\n",
       "ID                                                                            \n",
       "1      0    59           1      0              8           25535          1   \n",
       "2      0    66           6      1             21           14187          0   \n",
       "3      1    35           3      0             74           19156          0   \n",
       "4      0    52           5      1             25           11737          1   \n",
       "5      1    24           4      0             23           10474          1   \n",
       "\n",
       "    Profissao  Acesso a outras unidades  N absoluto de reclamacoes  \n",
       "ID                                                                  \n",
       "1           6                         0                          1  \n",
       "2           5                         0                          0  \n",
       "3           5                         0                          0  \n",
       "4           1                         0                          0  \n",
       "5           3                         0                          0  "
      ]
     },
     "execution_count": 13,
     "metadata": {},
     "output_type": "execute_result"
    }
   ],
   "source": [
    "# LabelEncoder para transformar texto em variável calculavel.\n",
    "train['Idade do plano'] = train['Idade do plano'].astype(str)\n",
    "train['Idade'] = train['Idade'].astype(str)\n",
    "\n",
    "cols = ('Sexo', 'Modalidade', 'Turno', 'Renovacao', 'Profissao', 'Acesso a outras unidades')\n",
    "for c in cols:\n",
    "    lbl=LabelEncoder()\n",
    "    lbl.fit(list(train[c].values))\n",
    "    train[c] = lbl.transform(list(train[c].values))\n",
    "\n",
    "print(\"Shape is {}\".format(train.shape))\n",
    "train.head()"
   ]
  },
  {
   "cell_type": "code",
   "execution_count": 14,
   "metadata": {},
   "outputs": [
    {
     "name": "stdout",
     "output_type": "stream",
     "text": [
      "New shape is (1674, 151)\n"
     ]
    }
   ],
   "source": [
    "# Get dummies\n",
    "train = pd.get_dummies(train)\n",
    "print(\"New shape is {}\".format(train.shape))"
   ]
  },
  {
   "cell_type": "code",
   "execution_count": 15,
   "metadata": {},
   "outputs": [],
   "source": [
    "# Validation\n",
    "n_folds = 5\n",
    "\n",
    "def rmsle_cv(model):\n",
    "    kf = KFold(n_folds, shuffle=True, random_state=42).get_n_splits(train.values)\n",
    "    rmse= np.sqrt(-cross_val_score(model, train.values, y_train, scoring=\"neg_mean_squared_error\", cv = kf))\n",
    "    return(rmse)"
   ]
  },
  {
   "cell_type": "code",
   "execution_count": 16,
   "metadata": {},
   "outputs": [],
   "source": [
    "lasso = make_pipeline(RobustScaler(), Lasso(alpha =0.05, random_state=1))\n",
    "ENet = make_pipeline(RobustScaler(), ElasticNet(alpha=0.05, l1_ratio=.9, random_state=3))\n",
    "KRR = KernelRidge(alpha=0.05, kernel='polynomial', degree=2, coef0=2.5)\n",
    "knn = make_pipeline(RobustScaler(), KNeighborsClassifier(n_neighbors=18))"
   ]
  },
  {
   "cell_type": "code",
   "execution_count": 17,
   "metadata": {},
   "outputs": [
    {
     "name": "stdout",
     "output_type": "stream",
     "text": [
      "\n",
      "Lasso score: 0.8824 (0.0522)\n",
      "\n"
     ]
    }
   ],
   "source": [
    "score = rmsle_cv(lasso)\n",
    "print(\"\\nLasso score: {:.4f} ({:.4f})\\n\".format(1-score.mean(), score.std()))"
   ]
  },
  {
   "cell_type": "code",
   "execution_count": 18,
   "metadata": {},
   "outputs": [
    {
     "name": "stdout",
     "output_type": "stream",
     "text": [
      "\n",
      "ElasticNet score: 0.8852 (0.0493)\n",
      "\n"
     ]
    }
   ],
   "source": [
    "score_ENet = rmsle_cv(ENet)\n",
    "print(\"\\nElasticNet score: {:.4f} ({:.4f})\\n\".format(1-score_ENet.mean(), score_ENet.std()))"
   ]
  },
  {
   "cell_type": "code",
   "execution_count": 19,
   "metadata": {},
   "outputs": [
    {
     "name": "stderr",
     "output_type": "stream",
     "text": [
      "C:\\Users\\C339182\\AppData\\Local\\Continuum\\anaconda3\\lib\\site-packages\\sklearn\\linear_model\\ridge.py:154: UserWarning: Singular matrix in solving dual problem. Using least-squares solution instead.\n",
      "  warnings.warn(\"Singular matrix in solving dual problem. Using \"\n",
      "C:\\Users\\C339182\\AppData\\Local\\Continuum\\anaconda3\\lib\\site-packages\\sklearn\\linear_model\\ridge.py:154: UserWarning: Singular matrix in solving dual problem. Using least-squares solution instead.\n",
      "  warnings.warn(\"Singular matrix in solving dual problem. Using \"\n",
      "C:\\Users\\C339182\\AppData\\Local\\Continuum\\anaconda3\\lib\\site-packages\\sklearn\\linear_model\\ridge.py:154: UserWarning: Singular matrix in solving dual problem. Using least-squares solution instead.\n",
      "  warnings.warn(\"Singular matrix in solving dual problem. Using \"\n",
      "C:\\Users\\C339182\\AppData\\Local\\Continuum\\anaconda3\\lib\\site-packages\\sklearn\\linear_model\\ridge.py:154: UserWarning: Singular matrix in solving dual problem. Using least-squares solution instead.\n",
      "  warnings.warn(\"Singular matrix in solving dual problem. Using \"\n",
      "C:\\Users\\C339182\\AppData\\Local\\Continuum\\anaconda3\\lib\\site-packages\\sklearn\\linear_model\\ridge.py:154: UserWarning: Singular matrix in solving dual problem. Using least-squares solution instead.\n",
      "  warnings.warn(\"Singular matrix in solving dual problem. Using \"\n"
     ]
    },
    {
     "name": "stdout",
     "output_type": "stream",
     "text": [
      "\n",
      "Kernel Ridge score: 0.8210 (0.1252)\n",
      "\n"
     ]
    }
   ],
   "source": [
    "score = rmsle_cv(KRR)\n",
    "print(\"\\nKernel Ridge score: {:.4f} ({:.4f})\\n\".format(1-score.mean(), score.std()))"
   ]
  },
  {
   "cell_type": "code",
   "execution_count": 20,
   "metadata": {},
   "outputs": [
    {
     "name": "stderr",
     "output_type": "stream",
     "text": [
      "C:\\Users\\C339182\\AppData\\Local\\Continuum\\anaconda3\\lib\\site-packages\\sklearn\\model_selection\\_split.py:605: Warning: The least populated class in y has only 4 members, which is too few. The minimum number of members in any class cannot be less than n_splits=5.\n",
      "  % (min_groups, self.n_splits)), Warning)\n"
     ]
    },
    {
     "name": "stdout",
     "output_type": "stream",
     "text": [
      "\n",
      "KNN score: 0.8331 (0.1528)\n",
      "\n"
     ]
    }
   ],
   "source": [
    "score_knn = rmsle_cv(knn)\n",
    "print(\"\\nKNN score: {:.4f} ({:.4f})\\n\".format(1-score_knn.mean(), score_knn.std()))"
   ]
  },
  {
   "cell_type": "code",
   "execution_count": 21,
   "metadata": {},
   "outputs": [],
   "source": [
    "# Clusterizando a BD para ajudar visualização"
   ]
  },
  {
   "cell_type": "code",
   "execution_count": 22,
   "metadata": {},
   "outputs": [],
   "source": [
    "y = train['N absoluto de reclamacoes'].values\n",
    "x = train.drop(['N absoluto de reclamacoes'], axis=1).values"
   ]
  },
  {
   "cell_type": "code",
   "execution_count": 23,
   "metadata": {},
   "outputs": [],
   "source": [
    "knn = KNeighborsClassifier(n_neighbors=18)\n",
    "knn.fit(x,y)\n",
    "y_pred = knn.predict(x)\n",
    "y_pred_prob = knn.predict_proba(x)"
   ]
  },
  {
   "cell_type": "code",
   "execution_count": 24,
   "metadata": {},
   "outputs": [
    {
     "data": {
      "text/plain": [
       "0.954599761051374"
      ]
     },
     "execution_count": 24,
     "metadata": {},
     "output_type": "execute_result"
    }
   ],
   "source": [
    "acc = knn.score(x,y)\n",
    "acc"
   ]
  },
  {
   "cell_type": "code",
   "execution_count": 25,
   "metadata": {},
   "outputs": [],
   "source": [
    "from sklearn.model_selection import train_test_split\n",
    "X_train, X_test, y_train, y_test = train_test_split(x, y, test_size = 0.3, random_state=42, stratify=y)"
   ]
  },
  {
   "cell_type": "code",
   "execution_count": 26,
   "metadata": {},
   "outputs": [
    {
     "data": {
      "text/plain": [
       "KNeighborsClassifier(algorithm='auto', leaf_size=30, metric='minkowski',\n",
       "           metric_params=None, n_jobs=1, n_neighbors=18, p=2,\n",
       "           weights='uniform')"
      ]
     },
     "execution_count": 26,
     "metadata": {},
     "output_type": "execute_result"
    }
   ],
   "source": [
    "knn.fit(X_train,y_train)"
   ]
  },
  {
   "cell_type": "code",
   "execution_count": 27,
   "metadata": {},
   "outputs": [
    {
     "name": "stdout",
     "output_type": "stream",
     "text": [
      "[[381   0   0   0]\n",
      " [ 21  99   0   0]\n",
      " [  0   1   0   0]\n",
      " [  0   1   0   0]]\n"
     ]
    }
   ],
   "source": [
    "from sklearn.metrics import confusion_matrix\n",
    "y_pred = knn.predict(X_test)\n",
    "confmat = confusion_matrix(y_true=y_test, y_pred=y_pred)\n",
    "print(confmat)"
   ]
  },
  {
   "cell_type": "code",
   "execution_count": 28,
   "metadata": {},
   "outputs": [
    {
     "data": {
      "image/png": "[encoded data removed]",
      "text/plain": [
       "<Figure size 180x180 with 1 Axes>"
      ]
     },
     "metadata": {},
     "output_type": "display_data"
    }
   ],
   "source": [
    "fig, ax = plt.subplots(figsize=(2.5, 2.5))\n",
    "ax.matshow(confmat, cmap=plt.cm.Blues, alpha=0.3)\n",
    "for i in range(confmat.shape[0]):\n",
    "    for j in range(confmat.shape[1]):\n",
    "        ax.text(x=j, y=i, s=confmat[i, j], va='center', ha='center')\n",
    "\n",
    "plt.xlabel('Classe Prevista')\n",
    "plt.ylabel('Classe Verdadeira')\n",
    "\n",
    "plt.tight_layout()\n",
    "plt.show()"
   ]
  },
  {
   "cell_type": "code",
   "execution_count": 29,
   "metadata": {},
   "outputs": [
    {
     "name": "stdout",
     "output_type": "stream",
     "text": [
      "0.9542743538767395\n"
     ]
    }
   ],
   "source": [
    "print(knn.score(X_test, y_test))"
   ]
  },
  {
   "cell_type": "code",
   "execution_count": 30,
   "metadata": {},
   "outputs": [
    {
     "data": {
      "image/png": "[encoded data removed]",
      "text/plain": [
       "<Figure size 432x288 with 1 Axes>"
      ]
     },
     "metadata": {},
     "output_type": "display_data"
    }
   ],
   "source": [
    "vizinhos = np.arange(1, 100)\n",
    "train_accuracy = np.empty(len(vizinhos))\n",
    "test_accuracy = np.empty(len(vizinhos))\n",
    "\n",
    "for i, k in enumerate(vizinhos):\n",
    "    knn = KNeighborsClassifier(n_neighbors = k)\n",
    "\n",
    "    knn.fit(X_train, y_train)\n",
    "    \n",
    "    train_accuracy[i] = knn.score(X_train, y_train)\n",
    "\n",
    "    test_accuracy[i] = knn.score(X_test, y_test)\n",
    "\n",
    "plt.title('k-NN: Variando Número de Vizinhos')\n",
    "plt.plot(vizinhos, train_accuracy, label = 'Training Accuracy')\n",
    "plt.plot(vizinhos, test_accuracy, label = 'Testing Accuracy')\n",
    "plt.legend()\n",
    "plt.xlabel('Número de Vizinhos')\n",
    "plt.ylabel('Accuracy')\n",
    "plt.show()"
   ]
  },
  {
   "cell_type": "code",
   "execution_count": 31,
   "metadata": {},
   "outputs": [
    {
     "data": {
      "text/plain": [
       "1"
      ]
     },
     "execution_count": 31,
     "metadata": {},
     "output_type": "execute_result"
    }
   ],
   "source": [
    "test_accuracy.argmax()"
   ]
  },
  {
   "cell_type": "code",
   "execution_count": 32,
   "metadata": {},
   "outputs": [
    {
     "data": {
      "text/plain": [
       "0.9542743538767395"
      ]
     },
     "execution_count": 32,
     "metadata": {},
     "output_type": "execute_result"
    }
   ],
   "source": [
    "test_accuracy[18] # é igual ao máximo, só que diminui overfit"
   ]
  },
  {
   "cell_type": "code",
   "execution_count": 33,
   "metadata": {},
   "outputs": [
    {
     "name": "stderr",
     "output_type": "stream",
     "text": [
      "C:\\Users\\C339182\\AppData\\Local\\Continuum\\anaconda3\\lib\\site-packages\\sklearn\\utils\\validation.py:475: DataConversionWarning: Data with input dtype int64 was converted to float64 by MinMaxScaler.\n",
      "  warnings.warn(msg, DataConversionWarning)\n"
     ]
    }
   ],
   "source": [
    "from sklearn import preprocessing\n",
    "\n",
    "min_max_scaler = preprocessing.MinMaxScaler()\n",
    "x_scaled = min_max_scaler.fit_transform(x)\n",
    "df = pd.pandas.DataFrame(x_scaled)\n",
    "X_train, X_test, y_train, y_test = train_test_split(x_scaled, y, test_size = 0.3, random_state=42, stratify=y)"
   ]
  },
  {
   "cell_type": "code",
   "execution_count": 34,
   "metadata": {
    "scrolled": true
   },
   "outputs": [
    {
     "data": {
      "image/png": "[encoded data removed]",
      "text/plain": [
       "<Figure size 432x288 with 1 Axes>"
      ]
     },
     "metadata": {},
     "output_type": "display_data"
    }
   ],
   "source": [
    "vizinhos = np.arange(1, 100)\n",
    "train_accuracy = np.empty(len(vizinhos))\n",
    "test_accuracy = np.empty(len(vizinhos))\n",
    "\n",
    "for i, k in enumerate(vizinhos):\n",
    "    knn = KNeighborsClassifier(n_neighbors = k)\n",
    "\n",
    "    knn.fit(X_train, y_train)\n",
    "    \n",
    "    train_accuracy[i] = knn.score(X_train, y_train)\n",
    "\n",
    "    test_accuracy[i] = knn.score(X_test, y_test)\n",
    "\n",
    "plt.title('k-NN: Variando Número de Vizinhos')\n",
    "plt.plot(vizinhos, train_accuracy, label = 'Training Accuracy')\n",
    "plt.plot(vizinhos, test_accuracy, label = 'Testing Accuracy')\n",
    "plt.legend()\n",
    "plt.xlabel('Número de Vizinhos')\n",
    "plt.ylabel('Accuracy')\n",
    "plt.show()"
   ]
  },
  {
   "cell_type": "code",
   "execution_count": 35,
   "metadata": {},
   "outputs": [
    {
     "data": {
      "text/plain": [
       "0.831013916500994"
      ]
     },
     "execution_count": 35,
     "metadata": {},
     "output_type": "execute_result"
    }
   ],
   "source": [
    "test_accuracy[22]"
   ]
  },
  {
   "cell_type": "code",
   "execution_count": 36,
   "metadata": {},
   "outputs": [
    {
     "data": {
      "text/plain": [
       "97"
      ]
     },
     "execution_count": 36,
     "metadata": {},
     "output_type": "execute_result"
    }
   ],
   "source": [
    "test_accuracy.argmax() # 0.8648111332007953"
   ]
  }
 ],
 "metadata": {
  "kernelspec": {
   "display_name": "Python 3",
   "language": "python",
   "name": "python3"
  },
  "language_info": {
   "codemirror_mode": {
    "name": "ipython",
    "version": 3
   },
   "file_extension": ".py",
   "mimetype": "text/x-python",
   "name": "python",
   "nbconvert_exporter": "python",
   "pygments_lexer": "ipython3",
   "version": "3.6.5"
  }
 },
 "nbformat": 4,
 "nbformat_minor": 2
}
