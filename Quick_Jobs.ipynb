{
 "cells": [
  {
   "cell_type": "code",
   "execution_count": 1,
   "metadata": {},
   "outputs": [
    {
     "data": {
      "text/plain": [
       "'(AHO190*SUM(AHF190:AHL190)+'"
      ]
     },
     "execution_count": 1,
     "metadata": {},
     "output_type": "execute_result"
    }
   ],
   "source": [
    "'AHO{x}*SUM(AHF{x}:AHL{x})+'"
   ]
  },
  {
   "cell_type": "code",
   "execution_count": 6,
   "metadata": {},
   "outputs": [],
   "source": [
    "s = str()\n",
    "for i in range(190,220):\n",
    "    s += 'AHP{x}*SUM(AHF{x}:AHL{x})+'.format(x=i)"
   ]
  },
  {
   "cell_type": "code",
   "execution_count": 7,
   "metadata": {},
   "outputs": [
    {
     "data": {
      "text/plain": [
       "'AHP190*SUM(AHF190:AHL190)+AHP191*SUM(AHF191:AHL191)+AHP192*SUM(AHF192:AHL192)+AHP193*SUM(AHF193:AHL193)+AHP194*SUM(AHF194:AHL194)+AHP195*SUM(AHF195:AHL195)+AHP196*SUM(AHF196:AHL196)+AHP197*SUM(AHF197:AHL197)+AHP198*SUM(AHF198:AHL198)+AHP199*SUM(AHF199:AHL199)+AHP200*SUM(AHF200:AHL200)+AHP201*SUM(AHF201:AHL201)+AHP202*SUM(AHF202:AHL202)+AHP203*SUM(AHF203:AHL203)+AHP204*SUM(AHF204:AHL204)+AHP205*SUM(AHF205:AHL205)+AHP206*SUM(AHF206:AHL206)+AHP207*SUM(AHF207:AHL207)+AHP208*SUM(AHF208:AHL208)+AHP209*SUM(AHF209:AHL209)+AHP210*SUM(AHF210:AHL210)+AHP211*SUM(AHF211:AHL211)+AHP212*SUM(AHF212:AHL212)+AHP213*SUM(AHF213:AHL213)+AHP214*SUM(AHF214:AHL214)+AHP215*SUM(AHF215:AHL215)+AHP216*SUM(AHF216:AHL216)+AHP217*SUM(AHF217:AHL217)+AHP218*SUM(AHF218:AHL218)+AHP219*SUM(AHF219:AHL219)+'"
      ]
     },
     "execution_count": 7,
     "metadata": {},
     "output_type": "execute_result"
    }
   ],
   "source": [
    "s"
   ]
  }
 ],
 "metadata": {
  "kernelspec": {
   "display_name": "Python 3",
   "language": "python",
   "name": "python3"
  },
  "language_info": {
   "codemirror_mode": {
    "name": "ipython",
    "version": 3
   },
   "file_extension": ".py",
   "mimetype": "text/x-python",
   "name": "python",
   "nbconvert_exporter": "python",
   "pygments_lexer": "ipython3",
   "version": "3.7.1"
  }
 },
 "nbformat": 4,
 "nbformat_minor": 2
}
